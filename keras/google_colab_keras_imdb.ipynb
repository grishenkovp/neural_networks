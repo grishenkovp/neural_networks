{
  "nbformat": 4,
  "nbformat_minor": 0,
  "metadata": {
    "colab": {
      "name": "google_colab_keras_imdb.ipynb",
      "provenance": [],
      "collapsed_sections": []
    },
    "kernelspec": {
      "name": "python3",
      "display_name": "Python 3"
    },
    "language_info": {
      "name": "python"
    },
    "accelerator": "GPU"
  },
  "cells": [
    {
      "cell_type": "code",
      "execution_count": 1,
      "metadata": {
        "id": "Fdjm-701CaMr"
      },
      "outputs": [],
      "source": [
        "%tensorflow_version 2.x\n",
        "from tensorflow.keras.datasets import imdb\n",
        "from tensorflow.keras.models import Sequential\n",
        "from tensorflow.keras.layers import Dense, Embedding, LSTM \n",
        "from tensorflow.keras import utils\n",
        "from tensorflow.keras.preprocessing.sequence import pad_sequences\n",
        "import numpy as np\n",
        "import matplotlib.pyplot as plt\n",
        "%matplotlib inline "
      ]
    },
    {
      "cell_type": "code",
      "source": [
        "# Устанавливаем seed для повторяемости результатов\n",
        "np.random.seed(42)"
      ],
      "metadata": {
        "id": "uUcC8zzuD_T-"
      },
      "execution_count": 2,
      "outputs": []
    },
    {
      "cell_type": "code",
      "source": [
        "# Максимальное количество слов (по частоте использования)\n",
        "max_words = 10000"
      ],
      "metadata": {
        "id": "GQblIHVZEDPd"
      },
      "execution_count": 3,
      "outputs": []
    },
    {
      "cell_type": "code",
      "source": [
        "# Максимальная длина рецензии в словах\n",
        "maxlen = 200"
      ],
      "metadata": {
        "id": "DZtnf-AsEE2d"
      },
      "execution_count": 4,
      "outputs": []
    },
    {
      "cell_type": "code",
      "source": [
        "# Загружаем данные\n",
        "(X_train, y_train), (X_test, y_test) = imdb.load_data(num_words=max_words)"
      ],
      "metadata": {
        "id": "M7bCcYnsEGpO"
      },
      "execution_count": 5,
      "outputs": []
    },
    {
      "cell_type": "code",
      "source": [
        "# Заполняем или обрезаем рецензии\n",
        "X_train = pad_sequences(X_train, maxlen=maxlen)\n",
        "X_test = pad_sequences(X_test, maxlen=maxlen)"
      ],
      "metadata": {
        "id": "Fql6Bk39EdBj"
      },
      "execution_count": 6,
      "outputs": []
    },
    {
      "cell_type": "code",
      "source": [
        "# Создаем сеть\n",
        "model = Sequential()\n",
        "model.add(Embedding(max_words, 8, input_length=maxlen))\n",
        "model.add(LSTM(32, recurrent_dropout = 0))\n",
        "model.add(Dense(1, activation='sigmoid'))"
      ],
      "metadata": {
        "id": "Pr4EtYSsEgGt"
      },
      "execution_count": 7,
      "outputs": []
    },
    {
      "cell_type": "code",
      "source": [
        "# Копмилируем модель\n",
        "model.compile(optimizer='adam', \n",
        "              loss='binary_crossentropy', \n",
        "              metrics=['accuracy'])"
      ],
      "metadata": {
        "id": "5gxGlOfnEynm"
      },
      "execution_count": 8,
      "outputs": []
    },
    {
      "cell_type": "code",
      "source": [
        "# Обучаем модель\n",
        "history = model.fit(X_train, \n",
        "                    y_train, \n",
        "                    epochs=15,\n",
        "                    batch_size=128,\n",
        "                    validation_split=0.1)"
      ],
      "metadata": {
        "colab": {
          "base_uri": "https://localhost:8080/"
        },
        "id": "rYAxpnyuE282",
        "outputId": "433922a1-8710-415b-b27a-8371181796ab"
      },
      "execution_count": 9,
      "outputs": [
        {
          "output_type": "stream",
          "name": "stdout",
          "text": [
            "Epoch 1/15\n",
            "176/176 [==============================] - 11s 39ms/step - loss: 0.5422 - accuracy: 0.7176 - val_loss: 0.3611 - val_accuracy: 0.8528\n",
            "Epoch 2/15\n",
            "176/176 [==============================] - 6s 35ms/step - loss: 0.2804 - accuracy: 0.8899 - val_loss: 0.3099 - val_accuracy: 0.8760\n",
            "Epoch 3/15\n",
            "176/176 [==============================] - 6s 35ms/step - loss: 0.2057 - accuracy: 0.9240 - val_loss: 0.2881 - val_accuracy: 0.8836\n",
            "Epoch 4/15\n",
            "176/176 [==============================] - 6s 36ms/step - loss: 0.1644 - accuracy: 0.9424 - val_loss: 0.3100 - val_accuracy: 0.8764\n",
            "Epoch 5/15\n",
            "176/176 [==============================] - 6s 35ms/step - loss: 0.1352 - accuracy: 0.9547 - val_loss: 0.3324 - val_accuracy: 0.8736\n",
            "Epoch 6/15\n",
            "176/176 [==============================] - 6s 35ms/step - loss: 0.1163 - accuracy: 0.9624 - val_loss: 0.3812 - val_accuracy: 0.8728\n",
            "Epoch 7/15\n",
            "176/176 [==============================] - 6s 35ms/step - loss: 0.0974 - accuracy: 0.9696 - val_loss: 0.4349 - val_accuracy: 0.8660\n",
            "Epoch 8/15\n",
            "176/176 [==============================] - 6s 35ms/step - loss: 0.0845 - accuracy: 0.9738 - val_loss: 0.4404 - val_accuracy: 0.8688\n",
            "Epoch 9/15\n",
            "176/176 [==============================] - 6s 35ms/step - loss: 0.0826 - accuracy: 0.9741 - val_loss: 0.4638 - val_accuracy: 0.8652\n",
            "Epoch 10/15\n",
            "176/176 [==============================] - 6s 35ms/step - loss: 0.0657 - accuracy: 0.9806 - val_loss: 0.4814 - val_accuracy: 0.8608\n",
            "Epoch 11/15\n",
            "176/176 [==============================] - 6s 35ms/step - loss: 0.0594 - accuracy: 0.9831 - val_loss: 0.4567 - val_accuracy: 0.8632\n",
            "Epoch 12/15\n",
            "176/176 [==============================] - 6s 35ms/step - loss: 0.0519 - accuracy: 0.9856 - val_loss: 0.6121 - val_accuracy: 0.8568\n",
            "Epoch 13/15\n",
            "176/176 [==============================] - 6s 35ms/step - loss: 0.0512 - accuracy: 0.9849 - val_loss: 0.5937 - val_accuracy: 0.8468\n",
            "Epoch 14/15\n",
            "176/176 [==============================] - 6s 35ms/step - loss: 0.0542 - accuracy: 0.9828 - val_loss: 0.6322 - val_accuracy: 0.8520\n",
            "Epoch 15/15\n",
            "176/176 [==============================] - 6s 36ms/step - loss: 0.0440 - accuracy: 0.9864 - val_loss: 0.5488 - val_accuracy: 0.8516\n"
          ]
        }
      ]
    },
    {
      "cell_type": "code",
      "source": [
        "plt.plot(history.history['accuracy'], \n",
        "         label='Доля верных ответов на обучающем наборе')\n",
        "plt.plot(history.history['val_accuracy'], \n",
        "         label='Доля верных ответов на проверочном наборе')\n",
        "plt.xlabel('Эпоха обучения')\n",
        "plt.ylabel('Доля верных ответов')\n",
        "plt.legend()\n",
        "plt.show()"
      ],
      "metadata": {
        "colab": {
          "base_uri": "https://localhost:8080/",
          "height": 279
        },
        "id": "skgT-ltLE7cV",
        "outputId": "9b532948-dc22-4417-f21c-8ce79a123d1b"
      },
      "execution_count": 10,
      "outputs": [
        {
          "output_type": "display_data",
          "data": {
            "image/png": "[encoded data removed]",
            "text/plain": [
              "<Figure size 432x288 with 1 Axes>"
            ]
          },
          "metadata": {
            "needs_background": "light"
          }
        }
      ]
    },
    {
      "cell_type": "code",
      "source": [
        "#Проверяем работу сети на тестовом наборе данных\n",
        "scores = model.evaluate(X_test, y_test, verbose=1)"
      ],
      "metadata": {
        "colab": {
          "base_uri": "https://localhost:8080/"
        },
        "id": "noDbU3zBGD-e",
        "outputId": "6ea1b655-10f5-4b3c-94d2-c468991c9ae8"
      },
      "execution_count": 11,
      "outputs": [
        {
          "output_type": "stream",
          "name": "stdout",
          "text": [
            "782/782 [==============================] - 11s 14ms/step - loss: 0.5842 - accuracy: 0.8379\n"
          ]
        }
      ]
    }
  ]
}