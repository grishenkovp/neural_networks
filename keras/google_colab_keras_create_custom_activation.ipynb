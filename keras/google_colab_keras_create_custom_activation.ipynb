{
  "nbformat": 4,
  "nbformat_minor": 0,
  "metadata": {
    "colab": {
      "name": "google_colab_keras_create_custom_activation.ipynb",
      "provenance": [],
      "collapsed_sections": []
    },
    "kernelspec": {
      "name": "python3",
      "display_name": "Python 3"
    },
    "language_info": {
      "name": "python"
    },
    "accelerator": "GPU"
  },
  "cells": [
    {
      "cell_type": "markdown",
      "source": [
        "# Как сделать кастомную функцию активации в Keras"
      ],
      "metadata": {
        "id": "IehWoQcCiUJB"
      }
    },
    {
      "cell_type": "code",
      "source": [
        "import pandas as pd\n",
        "import numpy as np\n",
        "import matplotlib.pyplot as plt\n",
        "import seaborn as sns\n",
        "from keras.datasets import mnist\n",
        "from keras.models import Sequential\n",
        "from keras.layers import Dense\n",
        "from keras.layers import Dropout\n",
        "from keras.utils import np_utils"
      ],
      "metadata": {
        "id": "8Ead2FEhjH7_"
      },
      "execution_count": 1,
      "outputs": []
    },
    {
      "cell_type": "code",
      "source": [
        "from keras import backend as K\n",
        "from keras.layers.core import Activation\n",
        "from keras.utils.generic_utils import get_custom_objects"
      ],
      "metadata": {
        "id": "VZ-hW0RUkPLO"
      },
      "execution_count": 2,
      "outputs": []
    },
    {
      "cell_type": "code",
      "source": [
        "np.random.seed(42)"
      ],
      "metadata": {
        "id": "9XIE6a8Dj5V9"
      },
      "execution_count": 3,
      "outputs": []
    },
    {
      "cell_type": "code",
      "source": [
        "# Загружаем данные\n",
        "(X_train, y_train), (X_test, y_test) = mnist.load_data()"
      ],
      "metadata": {
        "colab": {
          "base_uri": "https://localhost:8080/"
        },
        "id": "udChFUO1j7Qt",
        "outputId": "d1ffd0f2-8915-44cb-dbe6-ae205ecdaa3f"
      },
      "execution_count": 4,
      "outputs": [
        {
          "output_type": "stream",
          "name": "stdout",
          "text": [
            "Downloading data from https://storage.googleapis.com/tensorflow/tf-keras-datasets/mnist.npz\n",
            "11493376/11490434 [==============================] - 0s 0us/step\n",
            "11501568/11490434 [==============================] - 0s 0us/step\n"
          ]
        }
      ]
    },
    {
      "cell_type": "code",
      "source": [
        "# Преобразование размерности изображений\n",
        "X_train = X_train.reshape(60000, 784)\n",
        "X_test = X_test.reshape(10000, 784)"
      ],
      "metadata": {
        "id": "IqfjwLAuj861"
      },
      "execution_count": 5,
      "outputs": []
    },
    {
      "cell_type": "code",
      "source": [
        "# Нормализация данных\n",
        "X_train = X_train.astype('float32')\n",
        "X_test = X_test.astype('float32')\n",
        "X_train /= 255\n",
        "X_test /= 255"
      ],
      "metadata": {
        "id": "8cRPpqJ5kEWl"
      },
      "execution_count": 6,
      "outputs": []
    },
    {
      "cell_type": "code",
      "source": [
        "# Преобразуем метки в категории\n",
        "Y_train = np_utils.to_categorical(y_train, 10)\n",
        "Y_test = np_utils.to_categorical(y_test, 10)"
      ],
      "metadata": {
        "id": "u2yJv7H0kHYk"
      },
      "execution_count": 7,
      "outputs": []
    },
    {
      "cell_type": "code",
      "source": [
        "# Кастомная функция активации\n",
        "def custom_activation(x):  \n",
        "    return (1/(1 + K.exp(-x)))"
      ],
      "metadata": {
        "id": "P80FSzdykJTF"
      },
      "execution_count": 8,
      "outputs": []
    },
    {
      "cell_type": "code",
      "source": [
        "get_custom_objects().update({'custom_activation': Activation(custom_activation)})"
      ],
      "metadata": {
        "id": "kNuRmS2VkYkO"
      },
      "execution_count": 9,
      "outputs": []
    },
    {
      "cell_type": "code",
      "source": [
        "# Создаем модель\n",
        "model = Sequential()\n",
        "model.add(Dense(128, activation=\"custom_activation\", input_shape=(784,)))\n",
        "model.add(Dense(128, activation=\"custom_activation\", input_shape=(128,)))\n",
        "model.add(Dense(128, activation=\"custom_activation\", input_shape=(128,)))\n",
        "model.add(Dense(128, activation=\"custom_activation\", input_shape=(128,)))\n",
        "model.add(Dense(10, activation='softmax'))"
      ],
      "metadata": {
        "id": "Z1dniJRDkaXO"
      },
      "execution_count": 11,
      "outputs": []
    },
    {
      "cell_type": "code",
      "source": [
        "# Компилируем модель\n",
        "model.compile('adam', loss='categorical_crossentropy', metrics=['accuracy'])"
      ],
      "metadata": {
        "id": "L8gMWEVYklH0"
      },
      "execution_count": 12,
      "outputs": []
    },
    {
      "cell_type": "code",
      "source": [
        "print(model.summary())"
      ],
      "metadata": {
        "colab": {
          "base_uri": "https://localhost:8080/"
        },
        "id": "hrEW5q0rkpuV",
        "outputId": "90ee2deb-a7c2-466e-a7cc-3708d8efe806"
      },
      "execution_count": 13,
      "outputs": [
        {
          "output_type": "stream",
          "name": "stdout",
          "text": [
            "Model: \"sequential\"\n",
            "_________________________________________________________________\n",
            " Layer (type)                Output Shape              Param #   \n",
            "=================================================================\n",
            " dense (Dense)               (None, 128)               100480    \n",
            "                                                                 \n",
            " dense_1 (Dense)             (None, 128)               16512     \n",
            "                                                                 \n",
            " dense_2 (Dense)             (None, 128)               16512     \n",
            "                                                                 \n",
            " dense_3 (Dense)             (None, 128)               16512     \n",
            "                                                                 \n",
            " dense_4 (Dense)             (None, 10)                1290      \n",
            "                                                                 \n",
            "=================================================================\n",
            "Total params: 151,306\n",
            "Trainable params: 151,306\n",
            "Non-trainable params: 0\n",
            "_________________________________________________________________\n",
            "None\n"
          ]
        }
      ]
    },
    {
      "cell_type": "code",
      "source": [
        "# Обучаем сеть\n",
        "model.fit(X_train, Y_train, batch_size=200, epochs=25, validation_split=0.2, verbose=2)"
      ],
      "metadata": {
        "colab": {
          "base_uri": "https://localhost:8080/"
        },
        "id": "whlxJMh0krvV",
        "outputId": "14b5f6c9-5aaf-4d03-c0b3-e7462a9b55b7"
      },
      "execution_count": 14,
      "outputs": [
        {
          "output_type": "stream",
          "name": "stdout",
          "text": [
            "Epoch 1/25\n",
            "240/240 - 3s - loss: 1.3100 - accuracy: 0.5976 - val_loss: 0.4801 - val_accuracy: 0.8803 - 3s/epoch - 14ms/step\n",
            "Epoch 2/25\n",
            "240/240 - 1s - loss: 0.3847 - accuracy: 0.8959 - val_loss: 0.2898 - val_accuracy: 0.9204 - 967ms/epoch - 4ms/step\n",
            "Epoch 3/25\n",
            "240/240 - 1s - loss: 0.2620 - accuracy: 0.9266 - val_loss: 0.2221 - val_accuracy: 0.9376 - 947ms/epoch - 4ms/step\n",
            "Epoch 4/25\n",
            "240/240 - 1s - loss: 0.1994 - accuracy: 0.9433 - val_loss: 0.1835 - val_accuracy: 0.9488 - 952ms/epoch - 4ms/step\n",
            "Epoch 5/25\n",
            "240/240 - 1s - loss: 0.1597 - accuracy: 0.9541 - val_loss: 0.1608 - val_accuracy: 0.9555 - 968ms/epoch - 4ms/step\n",
            "Epoch 6/25\n",
            "240/240 - 1s - loss: 0.1326 - accuracy: 0.9616 - val_loss: 0.1389 - val_accuracy: 0.9606 - 966ms/epoch - 4ms/step\n",
            "Epoch 7/25\n",
            "240/240 - 1s - loss: 0.1122 - accuracy: 0.9682 - val_loss: 0.1286 - val_accuracy: 0.9635 - 953ms/epoch - 4ms/step\n",
            "Epoch 8/25\n",
            "240/240 - 1s - loss: 0.0965 - accuracy: 0.9735 - val_loss: 0.1233 - val_accuracy: 0.9641 - 945ms/epoch - 4ms/step\n",
            "Epoch 9/25\n",
            "240/240 - 1s - loss: 0.0851 - accuracy: 0.9762 - val_loss: 0.1240 - val_accuracy: 0.9646 - 975ms/epoch - 4ms/step\n",
            "Epoch 10/25\n",
            "240/240 - 1s - loss: 0.0764 - accuracy: 0.9783 - val_loss: 0.1159 - val_accuracy: 0.9678 - 978ms/epoch - 4ms/step\n",
            "Epoch 11/25\n",
            "240/240 - 1s - loss: 0.0656 - accuracy: 0.9814 - val_loss: 0.1160 - val_accuracy: 0.9681 - 972ms/epoch - 4ms/step\n",
            "Epoch 12/25\n",
            "240/240 - 1s - loss: 0.0589 - accuracy: 0.9839 - val_loss: 0.1188 - val_accuracy: 0.9657 - 948ms/epoch - 4ms/step\n",
            "Epoch 13/25\n",
            "240/240 - 1s - loss: 0.0521 - accuracy: 0.9855 - val_loss: 0.1176 - val_accuracy: 0.9682 - 963ms/epoch - 4ms/step\n",
            "Epoch 14/25\n",
            "240/240 - 1s - loss: 0.0459 - accuracy: 0.9873 - val_loss: 0.1176 - val_accuracy: 0.9688 - 942ms/epoch - 4ms/step\n",
            "Epoch 15/25\n",
            "240/240 - 1s - loss: 0.0402 - accuracy: 0.9890 - val_loss: 0.1197 - val_accuracy: 0.9675 - 953ms/epoch - 4ms/step\n",
            "Epoch 16/25\n",
            "240/240 - 1s - loss: 0.0356 - accuracy: 0.9904 - val_loss: 0.1185 - val_accuracy: 0.9704 - 954ms/epoch - 4ms/step\n",
            "Epoch 17/25\n",
            "240/240 - 1s - loss: 0.0331 - accuracy: 0.9911 - val_loss: 0.1251 - val_accuracy: 0.9663 - 1s/epoch - 5ms/step\n",
            "Epoch 18/25\n",
            "240/240 - 1s - loss: 0.0263 - accuracy: 0.9936 - val_loss: 0.1203 - val_accuracy: 0.9691 - 966ms/epoch - 4ms/step\n",
            "Epoch 19/25\n",
            "240/240 - 1s - loss: 0.0241 - accuracy: 0.9939 - val_loss: 0.1197 - val_accuracy: 0.9697 - 977ms/epoch - 4ms/step\n",
            "Epoch 20/25\n",
            "240/240 - 1s - loss: 0.0219 - accuracy: 0.9942 - val_loss: 0.1380 - val_accuracy: 0.9658 - 973ms/epoch - 4ms/step\n",
            "Epoch 21/25\n",
            "240/240 - 1s - loss: 0.0201 - accuracy: 0.9951 - val_loss: 0.1307 - val_accuracy: 0.9705 - 1s/epoch - 5ms/step\n",
            "Epoch 22/25\n",
            "240/240 - 1s - loss: 0.0163 - accuracy: 0.9962 - val_loss: 0.1255 - val_accuracy: 0.9708 - 956ms/epoch - 4ms/step\n",
            "Epoch 23/25\n",
            "240/240 - 1s - loss: 0.0152 - accuracy: 0.9959 - val_loss: 0.1303 - val_accuracy: 0.9696 - 953ms/epoch - 4ms/step\n",
            "Epoch 24/25\n",
            "240/240 - 1s - loss: 0.0135 - accuracy: 0.9967 - val_loss: 0.1277 - val_accuracy: 0.9715 - 1s/epoch - 5ms/step\n",
            "Epoch 25/25\n",
            "240/240 - 1s - loss: 0.0114 - accuracy: 0.9974 - val_loss: 0.1460 - val_accuracy: 0.9693 - 966ms/epoch - 4ms/step\n"
          ]
        },
        {
          "output_type": "execute_result",
          "data": {
            "text/plain": [
              "<keras.callbacks.History at 0x7f6040604f50>"
            ]
          },
          "metadata": {},
          "execution_count": 14
        }
      ]
    },
    {
      "cell_type": "code",
      "source": [
        "# Оцениваем качество обучения сети на тестовых данных\n",
        "scores = model.evaluate(X_test, Y_test, verbose=0)\n",
        "print(\"Точность работы на тестовых данных: %.2f%%\" % (scores[1]*100))"
      ],
      "metadata": {
        "colab": {
          "base_uri": "https://localhost:8080/"
        },
        "id": "A9KCWFPXkwcN",
        "outputId": "2270a4ba-0977-440d-dc6d-7a1a4274030a"
      },
      "execution_count": 15,
      "outputs": [
        {
          "output_type": "stream",
          "name": "stdout",
          "text": [
            "Точность работы на тестовых данных: 96.96%\n"
          ]
        }
      ]
    }
  ]
}