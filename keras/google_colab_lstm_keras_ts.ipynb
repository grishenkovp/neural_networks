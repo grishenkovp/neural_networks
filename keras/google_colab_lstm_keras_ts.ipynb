{
  "nbformat": 4,
  "nbformat_minor": 0,
  "metadata": {
    "colab": {
      "name": "google_colab_lstm_keras_ts.ipynb",
      "provenance": [],
      "collapsed_sections": []
    },
    "kernelspec": {
      "name": "python3",
      "display_name": "Python 3"
    },
    "language_info": {
      "name": "python"
    },
    "accelerator": "GPU"
  },
  "cells": [
    {
      "cell_type": "markdown",
      "metadata": {
        "id": "v_n2xuaOZDEq"
      },
      "source": [
        "# Анализ временных рядов с помощью LSTM с использованием библиотеки Keras"
      ]
    },
    {
      "cell_type": "markdown",
      "metadata": {
        "id": "H3DuZM7Wt9wh"
      },
      "source": [
        "Оригинал публикации \"Time Series Analysis with LSTM using Python's Keras Library\" (Usman Malik)"
      ]
    },
    {
      "cell_type": "code",
      "metadata": {
        "id": "cE8A9yfuY5Ea"
      },
      "source": [
        "import numpy as np\n",
        "import pandas as pd\n",
        "import matplotlib.pyplot as plt\n",
        "plt.style.use('fivethirtyeight')\n",
        "%matplotlib inline"
      ],
      "execution_count": 1,
      "outputs": []
    },
    {
      "cell_type": "code",
      "metadata": {
        "id": "dTnv033dZRDg"
      },
      "source": [
        "apple_training_complete = pd.read_csv('/content/drive/MyDrive/dataset/AAPL_01_2013_12_2017.csv')\n",
        "apple_testing_complete = pd.read_csv('/content/drive/MyDrive/dataset/AAPL_01_2018.csv')"
      ],
      "execution_count": 19,
      "outputs": []
    },
    {
      "cell_type": "code",
      "metadata": {
        "colab": {
          "base_uri": "https://localhost:8080/"
        },
        "id": "XjLdaIupZpuQ",
        "outputId": "f79eb4a3-b7e4-4a7b-9366-d86b0c8a933b"
      },
      "source": [
        "apple_training_complete.iloc[60,:]"
      ],
      "execution_count": 3,
      "outputs": [
        {
          "output_type": "execute_result",
          "data": {
            "text/plain": [
              "Date         2013-04-01\n",
              "Open            15.7821\n",
              "High            15.8464\n",
              "Low             15.2764\n",
              "Close           15.3182\n",
              "Adj Close       13.3466\n",
              "Volume        389732000\n",
              "Name: 60, dtype: object"
            ]
          },
          "metadata": {},
          "execution_count": 3
        }
      ]
    },
    {
      "cell_type": "code",
      "metadata": {
        "id": "nMm0WxOmZ2bQ"
      },
      "source": [
        "# Цена открытия\n",
        "apple_training_processed = apple_training_complete.iloc[:, 1:2].values"
      ],
      "execution_count": 4,
      "outputs": []
    },
    {
      "cell_type": "code",
      "metadata": {
        "id": "DjaBKoUtaYXQ"
      },
      "source": [
        "from sklearn.preprocessing import MinMaxScaler\n",
        "# Нормализация данных\n",
        "scaler = MinMaxScaler(feature_range = (0, 1))\n",
        "\n",
        "apple_training_scaled = scaler.fit_transform(apple_training_processed)"
      ],
      "execution_count": 5,
      "outputs": []
    },
    {
      "cell_type": "code",
      "metadata": {
        "id": "91CQrGTDbAYw"
      },
      "source": [
        "# Преобразование обучающих данных\n",
        "features_set = []\n",
        "labels = []\n",
        "for i in range(60, 1259):\n",
        "    features_set.append(apple_training_scaled[i-60:i, 0])\n",
        "    labels.append(apple_training_scaled[i, 0])"
      ],
      "execution_count": 7,
      "outputs": []
    },
    {
      "cell_type": "code",
      "metadata": {
        "id": "Az_9gm7XfJAQ"
      },
      "source": [
        "features_set, labels = np.array(features_set), np.array(labels)"
      ],
      "execution_count": 8,
      "outputs": []
    },
    {
      "cell_type": "code",
      "metadata": {
        "id": "gl9Y6Kbdf9rA"
      },
      "source": [
        "features_set = np.reshape(features_set, (features_set.shape[0], features_set.shape[1], 1))"
      ],
      "execution_count": 9,
      "outputs": []
    },
    {
      "cell_type": "code",
      "metadata": {
        "id": "923bhDbKgXLg"
      },
      "source": [
        "# Обучение LSTM\n",
        "from keras.models import Sequential\n",
        "from keras.layers import Dense\n",
        "from keras.layers import LSTM\n",
        "from keras.layers import Dropout"
      ],
      "execution_count": 10,
      "outputs": []
    },
    {
      "cell_type": "code",
      "metadata": {
        "id": "pNGD_vxogfii"
      },
      "source": [
        "model = Sequential()"
      ],
      "execution_count": 11,
      "outputs": []
    },
    {
      "cell_type": "code",
      "metadata": {
        "id": "Vk6RcMYLgjfK"
      },
      "source": [
        "model.add(LSTM(units=50, return_sequences=True, input_shape=(features_set.shape[1], 1)))"
      ],
      "execution_count": 12,
      "outputs": []
    },
    {
      "cell_type": "code",
      "metadata": {
        "id": "1p1YWf9PgqmS"
      },
      "source": [
        "model.add(Dropout(0.2))"
      ],
      "execution_count": 13,
      "outputs": []
    },
    {
      "cell_type": "code",
      "metadata": {
        "id": "s3Qewtzrg3FZ"
      },
      "source": [
        "model.add(LSTM(units=50, return_sequences=True))\n",
        "model.add(Dropout(0.2))\n",
        "\n",
        "model.add(LSTM(units=50, return_sequences=True))\n",
        "model.add(Dropout(0.2))\n",
        "\n",
        "model.add(LSTM(units=50))\n",
        "model.add(Dropout(0.2))"
      ],
      "execution_count": 14,
      "outputs": []
    },
    {
      "cell_type": "code",
      "metadata": {
        "id": "C2bPefCkhAXw"
      },
      "source": [
        "model.add(Dense(units = 1))"
      ],
      "execution_count": 15,
      "outputs": []
    },
    {
      "cell_type": "code",
      "metadata": {
        "id": "j7PfkUgjhCu4"
      },
      "source": [
        "model.compile(optimizer = 'adam', loss = 'mean_squared_error')"
      ],
      "execution_count": 16,
      "outputs": []
    },
    {
      "cell_type": "code",
      "metadata": {
        "colab": {
          "base_uri": "https://localhost:8080/"
        },
        "id": "mTJ7UxRPhPz3",
        "outputId": "ae47255d-df77-46e0-fd59-ef2b6e4260f5"
      },
      "source": [
        "# Обучение алгоритму\n",
        "model.fit(features_set, labels, epochs = 100, batch_size = 32)"
      ],
      "execution_count": 17,
      "outputs": [
        {
          "output_type": "stream",
          "text": [
            "Epoch 1/100\n",
            "38/38 [==============================] - 13s 60ms/step - loss: 0.0332\n",
            "Epoch 2/100\n",
            "38/38 [==============================] - 2s 61ms/step - loss: 0.0052\n",
            "Epoch 3/100\n",
            "38/38 [==============================] - 2s 60ms/step - loss: 0.0052\n",
            "Epoch 4/100\n",
            "38/38 [==============================] - 2s 60ms/step - loss: 0.0044\n",
            "Epoch 5/100\n",
            "38/38 [==============================] - 2s 60ms/step - loss: 0.0054\n",
            "Epoch 6/100\n",
            "38/38 [==============================] - 2s 60ms/step - loss: 0.0044\n",
            "Epoch 7/100\n",
            "38/38 [==============================] - 2s 60ms/step - loss: 0.0036\n",
            "Epoch 8/100\n",
            "38/38 [==============================] - 2s 59ms/step - loss: 0.0040\n",
            "Epoch 9/100\n",
            "38/38 [==============================] - 2s 61ms/step - loss: 0.0036\n",
            "Epoch 10/100\n",
            "38/38 [==============================] - 2s 60ms/step - loss: 0.0031\n",
            "Epoch 11/100\n",
            "38/38 [==============================] - 2s 60ms/step - loss: 0.0033\n",
            "Epoch 12/100\n",
            "38/38 [==============================] - 2s 60ms/step - loss: 0.0034\n",
            "Epoch 13/100\n",
            "38/38 [==============================] - 2s 61ms/step - loss: 0.0031\n",
            "Epoch 14/100\n",
            "38/38 [==============================] - 2s 61ms/step - loss: 0.0034\n",
            "Epoch 15/100\n",
            "38/38 [==============================] - 2s 60ms/step - loss: 0.0031\n",
            "Epoch 16/100\n",
            "38/38 [==============================] - 2s 61ms/step - loss: 0.0033\n",
            "Epoch 17/100\n",
            "38/38 [==============================] - 2s 60ms/step - loss: 0.0029\n",
            "Epoch 18/100\n",
            "38/38 [==============================] - 2s 61ms/step - loss: 0.0029\n",
            "Epoch 19/100\n",
            "38/38 [==============================] - 2s 60ms/step - loss: 0.0028\n",
            "Epoch 20/100\n",
            "38/38 [==============================] - 2s 60ms/step - loss: 0.0025\n",
            "Epoch 21/100\n",
            "38/38 [==============================] - 2s 60ms/step - loss: 0.0027\n",
            "Epoch 22/100\n",
            "38/38 [==============================] - 2s 61ms/step - loss: 0.0031\n",
            "Epoch 23/100\n",
            "38/38 [==============================] - 2s 61ms/step - loss: 0.0023\n",
            "Epoch 24/100\n",
            "38/38 [==============================] - 2s 60ms/step - loss: 0.0026\n",
            "Epoch 25/100\n",
            "38/38 [==============================] - 2s 61ms/step - loss: 0.0026\n",
            "Epoch 26/100\n",
            "38/38 [==============================] - 2s 61ms/step - loss: 0.0027\n",
            "Epoch 27/100\n",
            "38/38 [==============================] - 2s 60ms/step - loss: 0.0023\n",
            "Epoch 28/100\n",
            "38/38 [==============================] - 2s 61ms/step - loss: 0.0026\n",
            "Epoch 29/100\n",
            "38/38 [==============================] - 2s 60ms/step - loss: 0.0026\n",
            "Epoch 30/100\n",
            "38/38 [==============================] - 2s 61ms/step - loss: 0.0023\n",
            "Epoch 31/100\n",
            "38/38 [==============================] - 2s 61ms/step - loss: 0.0020\n",
            "Epoch 32/100\n",
            "38/38 [==============================] - 2s 61ms/step - loss: 0.0020\n",
            "Epoch 33/100\n",
            "38/38 [==============================] - 2s 61ms/step - loss: 0.0022\n",
            "Epoch 34/100\n",
            "38/38 [==============================] - 2s 61ms/step - loss: 0.0022\n",
            "Epoch 35/100\n",
            "38/38 [==============================] - 2s 60ms/step - loss: 0.0021\n",
            "Epoch 36/100\n",
            "38/38 [==============================] - 2s 61ms/step - loss: 0.0023\n",
            "Epoch 37/100\n",
            "38/38 [==============================] - 2s 59ms/step - loss: 0.0021\n",
            "Epoch 38/100\n",
            "38/38 [==============================] - 2s 61ms/step - loss: 0.0019\n",
            "Epoch 39/100\n",
            "38/38 [==============================] - 2s 60ms/step - loss: 0.0020\n",
            "Epoch 40/100\n",
            "38/38 [==============================] - 2s 60ms/step - loss: 0.0020\n",
            "Epoch 41/100\n",
            "38/38 [==============================] - 2s 61ms/step - loss: 0.0019\n",
            "Epoch 42/100\n",
            "38/38 [==============================] - 2s 60ms/step - loss: 0.0020\n",
            "Epoch 43/100\n",
            "38/38 [==============================] - 2s 60ms/step - loss: 0.0022\n",
            "Epoch 44/100\n",
            "38/38 [==============================] - 2s 61ms/step - loss: 0.0019\n",
            "Epoch 45/100\n",
            "38/38 [==============================] - 2s 60ms/step - loss: 0.0017\n",
            "Epoch 46/100\n",
            "38/38 [==============================] - 2s 60ms/step - loss: 0.0019\n",
            "Epoch 47/100\n",
            "38/38 [==============================] - 2s 61ms/step - loss: 0.0019\n",
            "Epoch 48/100\n",
            "38/38 [==============================] - 2s 61ms/step - loss: 0.0019\n",
            "Epoch 49/100\n",
            "38/38 [==============================] - 2s 61ms/step - loss: 0.0017\n",
            "Epoch 50/100\n",
            "38/38 [==============================] - 2s 60ms/step - loss: 0.0017\n",
            "Epoch 51/100\n",
            "38/38 [==============================] - 2s 60ms/step - loss: 0.0020\n",
            "Epoch 52/100\n",
            "38/38 [==============================] - 2s 61ms/step - loss: 0.0019\n",
            "Epoch 53/100\n",
            "38/38 [==============================] - 2s 60ms/step - loss: 0.0020\n",
            "Epoch 54/100\n",
            "38/38 [==============================] - 2s 61ms/step - loss: 0.0018\n",
            "Epoch 55/100\n",
            "38/38 [==============================] - 2s 61ms/step - loss: 0.0018\n",
            "Epoch 56/100\n",
            "38/38 [==============================] - 2s 61ms/step - loss: 0.0015\n",
            "Epoch 57/100\n",
            "38/38 [==============================] - 2s 60ms/step - loss: 0.0018\n",
            "Epoch 58/100\n",
            "38/38 [==============================] - 2s 61ms/step - loss: 0.0016\n",
            "Epoch 59/100\n",
            "38/38 [==============================] - 2s 61ms/step - loss: 0.0014\n",
            "Epoch 60/100\n",
            "38/38 [==============================] - 2s 61ms/step - loss: 0.0017\n",
            "Epoch 61/100\n",
            "38/38 [==============================] - 2s 61ms/step - loss: 0.0017\n",
            "Epoch 62/100\n",
            "38/38 [==============================] - 2s 61ms/step - loss: 0.0016\n",
            "Epoch 63/100\n",
            "38/38 [==============================] - 2s 61ms/step - loss: 0.0018\n",
            "Epoch 64/100\n",
            "38/38 [==============================] - 2s 62ms/step - loss: 0.0017\n",
            "Epoch 65/100\n",
            "38/38 [==============================] - 2s 60ms/step - loss: 0.0017\n",
            "Epoch 66/100\n",
            "38/38 [==============================] - 2s 60ms/step - loss: 0.0015\n",
            "Epoch 67/100\n",
            "38/38 [==============================] - 2s 61ms/step - loss: 0.0015\n",
            "Epoch 68/100\n",
            "38/38 [==============================] - 2s 62ms/step - loss: 0.0015\n",
            "Epoch 69/100\n",
            "38/38 [==============================] - 2s 61ms/step - loss: 0.0020\n",
            "Epoch 70/100\n",
            "38/38 [==============================] - 2s 61ms/step - loss: 0.0015\n",
            "Epoch 71/100\n",
            "38/38 [==============================] - 2s 61ms/step - loss: 0.0014\n",
            "Epoch 72/100\n",
            "38/38 [==============================] - 2s 61ms/step - loss: 0.0014\n",
            "Epoch 73/100\n",
            "38/38 [==============================] - 2s 60ms/step - loss: 0.0012\n",
            "Epoch 74/100\n",
            "38/38 [==============================] - 2s 61ms/step - loss: 0.0013\n",
            "Epoch 75/100\n",
            "38/38 [==============================] - 2s 60ms/step - loss: 0.0013\n",
            "Epoch 76/100\n",
            "38/38 [==============================] - 2s 60ms/step - loss: 0.0015\n",
            "Epoch 77/100\n",
            "38/38 [==============================] - 2s 61ms/step - loss: 0.0013\n",
            "Epoch 78/100\n",
            "38/38 [==============================] - 2s 60ms/step - loss: 0.0013\n",
            "Epoch 79/100\n",
            "38/38 [==============================] - 2s 60ms/step - loss: 0.0014\n",
            "Epoch 80/100\n",
            "38/38 [==============================] - 2s 60ms/step - loss: 0.0013\n",
            "Epoch 81/100\n",
            "38/38 [==============================] - 2s 61ms/step - loss: 0.0013\n",
            "Epoch 82/100\n",
            "38/38 [==============================] - 2s 61ms/step - loss: 0.0014\n",
            "Epoch 83/100\n",
            "38/38 [==============================] - 2s 61ms/step - loss: 0.0012\n",
            "Epoch 84/100\n",
            "38/38 [==============================] - 2s 61ms/step - loss: 0.0013\n",
            "Epoch 85/100\n",
            "38/38 [==============================] - 2s 61ms/step - loss: 0.0015\n",
            "Epoch 86/100\n",
            "38/38 [==============================] - 2s 61ms/step - loss: 0.0015\n",
            "Epoch 87/100\n",
            "38/38 [==============================] - 2s 61ms/step - loss: 0.0013\n",
            "Epoch 88/100\n",
            "38/38 [==============================] - 2s 61ms/step - loss: 0.0012\n",
            "Epoch 89/100\n",
            "38/38 [==============================] - 2s 61ms/step - loss: 0.0011\n",
            "Epoch 90/100\n",
            "38/38 [==============================] - 2s 61ms/step - loss: 0.0011\n",
            "Epoch 91/100\n",
            "38/38 [==============================] - 2s 61ms/step - loss: 0.0012\n",
            "Epoch 92/100\n",
            "38/38 [==============================] - 2s 60ms/step - loss: 0.0010\n",
            "Epoch 93/100\n",
            "38/38 [==============================] - 2s 61ms/step - loss: 0.0011\n",
            "Epoch 94/100\n",
            "38/38 [==============================] - 2s 61ms/step - loss: 0.0010\n",
            "Epoch 95/100\n",
            "38/38 [==============================] - 2s 60ms/step - loss: 0.0011\n",
            "Epoch 96/100\n",
            "38/38 [==============================] - 2s 60ms/step - loss: 0.0011\n",
            "Epoch 97/100\n",
            "38/38 [==============================] - 2s 61ms/step - loss: 0.0011\n",
            "Epoch 98/100\n",
            "38/38 [==============================] - 2s 60ms/step - loss: 0.0011\n",
            "Epoch 99/100\n",
            "38/38 [==============================] - 2s 61ms/step - loss: 0.0012\n",
            "Epoch 100/100\n",
            "38/38 [==============================] - 2s 60ms/step - loss: 0.0012\n"
          ],
          "name": "stdout"
        },
        {
          "output_type": "execute_result",
          "data": {
            "text/plain": [
              "<keras.callbacks.History at 0x7fabd2f61fd0>"
            ]
          },
          "metadata": {},
          "execution_count": 17
        }
      ]
    },
    {
      "cell_type": "code",
      "metadata": {
        "id": "GELL_yjAinPa"
      },
      "source": [
        "# Тестирование LSTM\n",
        "apple_testing_processed = apple_testing_complete.iloc[:, 1:2].values"
      ],
      "execution_count": 20,
      "outputs": []
    },
    {
      "cell_type": "code",
      "metadata": {
        "colab": {
          "base_uri": "https://localhost:8080/",
          "height": 444
        },
        "id": "XX3Ld8Qvji6o",
        "outputId": "c130179c-26ea-4f2d-f8a6-0e87d28c701b"
      },
      "source": [
        "apple_test_complete.plot(x='Date', y='Open',figsize=(19, 7))\n",
        "plt.show()"
      ],
      "execution_count": 21,
      "outputs": [
        {
          "output_type": "display_data",
          "data": {
            "image/png": "[encoded data removed]",
            "text/plain": [
              "<Figure size 1368x504 with 1 Axes>"
            ]
          },
          "metadata": {
            "needs_background": "light"
          }
        }
      ]
    },
    {
      "cell_type": "code",
      "metadata": {
        "id": "l1Juws5jmCnY"
      },
      "source": [
        "# Преобразование тестовых данных\n",
        "apple_total = pd.concat((apple_training_complete['Open'], apple_testing_complete['Open']), axis=0)"
      ],
      "execution_count": 22,
      "outputs": []
    },
    {
      "cell_type": "code",
      "metadata": {
        "id": "ZPyykJ2tof8C"
      },
      "source": [
        "test_inputs = apple_total[len(apple_total) - len(apple_testing_complete) - 60:].values"
      ],
      "execution_count": 23,
      "outputs": []
    },
    {
      "cell_type": "code",
      "metadata": {
        "id": "MoNljJy3owbQ"
      },
      "source": [
        "test_inputs = test_inputs.reshape(-1,1)\n",
        "test_inputs = scaler.transform(test_inputs)"
      ],
      "execution_count": 24,
      "outputs": []
    },
    {
      "cell_type": "code",
      "metadata": {
        "id": "lmiUN6E3o4IR"
      },
      "source": [
        "test_features = []\n",
        "for i in range(60, 80):\n",
        "    test_features.append(test_inputs[i-60:i, 0])"
      ],
      "execution_count": 25,
      "outputs": []
    },
    {
      "cell_type": "code",
      "metadata": {
        "id": "FHYGbMqYo7cA"
      },
      "source": [
        "test_features = np.array(test_features)\n",
        "test_features = np.reshape(test_features, (test_features.shape[0], test_features.shape[1], 1))"
      ],
      "execution_count": 26,
      "outputs": []
    },
    {
      "cell_type": "code",
      "metadata": {
        "id": "0VEZJX_jo915"
      },
      "source": [
        "# Прогноз\n",
        "predictions = model.predict(test_features)"
      ],
      "execution_count": 27,
      "outputs": []
    },
    {
      "cell_type": "code",
      "metadata": {
        "id": "D-n7V-w8pF4L"
      },
      "source": [
        "predictions = scaler.inverse_transform(predictions)"
      ],
      "execution_count": 28,
      "outputs": []
    },
    {
      "cell_type": "code",
      "metadata": {
        "colab": {
          "base_uri": "https://localhost:8080/",
          "height": 405
        },
        "id": "EzFswswppJGx",
        "outputId": "c9432a61-e7cf-47bd-c617-152f92b9113b"
      },
      "source": [
        "plt.figure(figsize=(10,6))\n",
        "plt.plot(apple_testing_processed, color='blue', label='Фактические значения')\n",
        "plt.plot(predictions , color='red', label='Предсказанные значения')\n",
        "plt.title('Предсказание цен на акции')\n",
        "plt.xlabel('Date')\n",
        "plt.ylabel('Apple Stock Price')\n",
        "plt.legend()\n",
        "plt.show()"
      ],
      "execution_count": 30,
      "outputs": [
        {
          "output_type": "display_data",
          "data": {
            "image/png": "[encoded data removed]",
            "text/plain": [
              "<Figure size 720x432 with 1 Axes>"
            ]
          },
          "metadata": {
            "needs_background": "light"
          }
        }
      ]
    }
  ]
}