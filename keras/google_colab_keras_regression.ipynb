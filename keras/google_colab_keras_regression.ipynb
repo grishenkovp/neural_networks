{
  "nbformat": 4,
  "nbformat_minor": 0,
  "metadata": {
    "colab": {
      "name": "google_colab_keras_regression.ipynb",
      "provenance": [],
      "collapsed_sections": []
    },
    "kernelspec": {
      "name": "python3",
      "display_name": "Python 3"
    },
    "language_info": {
      "name": "python"
    },
    "accelerator": "GPU"
  },
  "cells": [
    {
      "cell_type": "code",
      "execution_count": 1,
      "metadata": {
        "id": "42k3bWsR0uNa"
      },
      "outputs": [],
      "source": [
        "import pandas as pd\n",
        "import numpy as np\n",
        "import matplotlib.pyplot as plt\n",
        "import seaborn as sns\n",
        "from keras.datasets import boston_housing\n",
        "from keras.models import Sequential\n",
        "from keras.layers import Dense"
      ]
    },
    {
      "cell_type": "code",
      "source": [
        "#Загрузка данных\n",
        "(x_train, y_train), (x_test, y_test) = boston_housing.load_data()"
      ],
      "metadata": {
        "id": "jXxDyEYm6vof"
      },
      "execution_count": 2,
      "outputs": []
    },
    {
      "cell_type": "code",
      "source": [
        "x_train.shape"
      ],
      "metadata": {
        "colab": {
          "base_uri": "https://localhost:8080/"
        },
        "id": "nY_oM_lA7_aQ",
        "outputId": "be7b7e74-1db6-4365-e46d-456d6e40aa7d"
      },
      "execution_count": 3,
      "outputs": [
        {
          "output_type": "execute_result",
          "data": {
            "text/plain": [
              "(404, 13)"
            ]
          },
          "metadata": {},
          "execution_count": 3
        }
      ]
    },
    {
      "cell_type": "code",
      "source": [
        "x_test.shape"
      ],
      "metadata": {
        "colab": {
          "base_uri": "https://localhost:8080/"
        },
        "id": "cECJoj-g8JiP",
        "outputId": "9dcda4b9-077f-4ffa-deb6-e090b17c4fcd"
      },
      "execution_count": 4,
      "outputs": [
        {
          "output_type": "execute_result",
          "data": {
            "text/plain": [
              "(102, 13)"
            ]
          },
          "metadata": {},
          "execution_count": 4
        }
      ]
    },
    {
      "cell_type": "code",
      "source": [
        "#Нормализация данных\n",
        "mean = x_train.mean(axis=0)\n",
        "std = x_train.std(axis=0)\n",
        "x_train -= mean\n",
        "x_train /= std\n",
        "x_test -= mean\n",
        "x_test /= std"
      ],
      "metadata": {
        "id": "IBU_naTo6_IQ"
      },
      "execution_count": 5,
      "outputs": []
    },
    {
      "cell_type": "code",
      "source": [
        "#Создаем сеть\n",
        "model = Sequential()\n",
        "model.add(Dense(128, activation='relu', input_shape=(x_train.shape[1],)))\n",
        "model.add(Dense(1))\n",
        "model.compile(optimizer='adam', loss='mse', metrics=['mae'])"
      ],
      "metadata": {
        "id": "1Ogt1jH48b84"
      },
      "execution_count": 6,
      "outputs": []
    },
    {
      "cell_type": "code",
      "source": [
        "model.summary()"
      ],
      "metadata": {
        "colab": {
          "base_uri": "https://localhost:8080/"
        },
        "id": "YEcd2AMG_DJa",
        "outputId": "6b620246-f8da-493a-c2f6-9e0799bd232e"
      },
      "execution_count": 7,
      "outputs": [
        {
          "output_type": "stream",
          "name": "stdout",
          "text": [
            "Model: \"sequential\"\n",
            "_________________________________________________________________\n",
            " Layer (type)                Output Shape              Param #   \n",
            "=================================================================\n",
            " dense (Dense)               (None, 128)               1792      \n",
            "                                                                 \n",
            " dense_1 (Dense)             (None, 1)                 129       \n",
            "                                                                 \n",
            "=================================================================\n",
            "Total params: 1,921\n",
            "Trainable params: 1,921\n",
            "Non-trainable params: 0\n",
            "_________________________________________________________________\n"
          ]
        }
      ]
    },
    {
      "cell_type": "code",
      "source": [
        "#Обучаем сеть\n",
        "history = model.fit(x_train, y_train, epochs=100, verbose=1, validation_split=0.2)"
      ],
      "metadata": {
        "colab": {
          "base_uri": "https://localhost:8080/"
        },
        "id": "4gQ7_2zY8jAA",
        "outputId": "b1ab6bb6-f389-4161-c40e-4077bde11d88"
      },
      "execution_count": 8,
      "outputs": [
        {
          "output_type": "stream",
          "name": "stdout",
          "text": [
            "Epoch 1/100\n",
            "11/11 [==============================] - 1s 23ms/step - loss: 554.6434 - mae: 21.8136 - val_loss: 610.7926 - val_mae: 23.0185\n",
            "Epoch 2/100\n",
            "11/11 [==============================] - 0s 6ms/step - loss: 530.9998 - mae: 21.2807 - val_loss: 586.8862 - val_mae: 22.5031\n",
            "Epoch 3/100\n",
            "11/11 [==============================] - 0s 7ms/step - loss: 507.7863 - mae: 20.7494 - val_loss: 562.9799 - val_mae: 21.9742\n",
            "Epoch 4/100\n",
            "11/11 [==============================] - 0s 6ms/step - loss: 484.0891 - mae: 20.1886 - val_loss: 537.7991 - val_mae: 21.4012\n",
            "Epoch 5/100\n",
            "11/11 [==============================] - 0s 8ms/step - loss: 458.3064 - mae: 19.5797 - val_loss: 510.1410 - val_mae: 20.7601\n",
            "Epoch 6/100\n",
            "11/11 [==============================] - 0s 6ms/step - loss: 430.8796 - mae: 18.9088 - val_loss: 480.6098 - val_mae: 20.0494\n",
            "Epoch 7/100\n",
            "11/11 [==============================] - 0s 7ms/step - loss: 401.6153 - mae: 18.1595 - val_loss: 449.3141 - val_mae: 19.2614\n",
            "Epoch 8/100\n",
            "11/11 [==============================] - 0s 7ms/step - loss: 370.0571 - mae: 17.3366 - val_loss: 414.5776 - val_mae: 18.3736\n",
            "Epoch 9/100\n",
            "11/11 [==============================] - 0s 6ms/step - loss: 336.6265 - mae: 16.4271 - val_loss: 377.5704 - val_mae: 17.3847\n",
            "Epoch 10/100\n",
            "11/11 [==============================] - 0s 6ms/step - loss: 301.3716 - mae: 15.3962 - val_loss: 341.0189 - val_mae: 16.3261\n",
            "Epoch 11/100\n",
            "11/11 [==============================] - 0s 6ms/step - loss: 267.5347 - mae: 14.3374 - val_loss: 304.4298 - val_mae: 15.1734\n",
            "Epoch 12/100\n",
            "11/11 [==============================] - 0s 6ms/step - loss: 234.0869 - mae: 13.2154 - val_loss: 270.4837 - val_mae: 14.0081\n",
            "Epoch 13/100\n",
            "11/11 [==============================] - 0s 6ms/step - loss: 204.1292 - mae: 12.1361 - val_loss: 239.3147 - val_mae: 12.8441\n",
            "Epoch 14/100\n",
            "11/11 [==============================] - 0s 7ms/step - loss: 176.2426 - mae: 11.0650 - val_loss: 210.2874 - val_mae: 11.6797\n",
            "Epoch 15/100\n",
            "11/11 [==============================] - 0s 6ms/step - loss: 151.3252 - mae: 10.0802 - val_loss: 183.2995 - val_mae: 10.6484\n",
            "Epoch 16/100\n",
            "11/11 [==============================] - 0s 7ms/step - loss: 129.8903 - mae: 9.1683 - val_loss: 161.5706 - val_mae: 9.8196\n",
            "Epoch 17/100\n",
            "11/11 [==============================] - 0s 6ms/step - loss: 113.1828 - mae: 8.4118 - val_loss: 143.0175 - val_mae: 9.1090\n",
            "Epoch 18/100\n",
            "11/11 [==============================] - 0s 6ms/step - loss: 98.8461 - mae: 7.7756 - val_loss: 128.1757 - val_mae: 8.5174\n",
            "Epoch 19/100\n",
            "11/11 [==============================] - 0s 7ms/step - loss: 87.7542 - mae: 7.2401 - val_loss: 116.2731 - val_mae: 8.0504\n",
            "Epoch 20/100\n",
            "11/11 [==============================] - 0s 6ms/step - loss: 78.6883 - mae: 6.7717 - val_loss: 105.7347 - val_mae: 7.5994\n",
            "Epoch 21/100\n",
            "11/11 [==============================] - 0s 6ms/step - loss: 70.8715 - mae: 6.3808 - val_loss: 96.0155 - val_mae: 7.1770\n",
            "Epoch 22/100\n",
            "11/11 [==============================] - 0s 6ms/step - loss: 63.7746 - mae: 6.0145 - val_loss: 87.7452 - val_mae: 6.7963\n",
            "Epoch 23/100\n",
            "11/11 [==============================] - 0s 7ms/step - loss: 58.1552 - mae: 5.6847 - val_loss: 80.0636 - val_mae: 6.4486\n",
            "Epoch 24/100\n",
            "11/11 [==============================] - 0s 6ms/step - loss: 52.7757 - mae: 5.3608 - val_loss: 73.2613 - val_mae: 6.1618\n",
            "Epoch 25/100\n",
            "11/11 [==============================] - 0s 6ms/step - loss: 48.2587 - mae: 5.0786 - val_loss: 67.7228 - val_mae: 5.9047\n",
            "Epoch 26/100\n",
            "11/11 [==============================] - 0s 7ms/step - loss: 44.7144 - mae: 4.8235 - val_loss: 62.8858 - val_mae: 5.6777\n",
            "Epoch 27/100\n",
            "11/11 [==============================] - 0s 8ms/step - loss: 41.7449 - mae: 4.6003 - val_loss: 58.1205 - val_mae: 5.4860\n",
            "Epoch 28/100\n",
            "11/11 [==============================] - 0s 6ms/step - loss: 38.9680 - mae: 4.4090 - val_loss: 54.1678 - val_mae: 5.3031\n",
            "Epoch 29/100\n",
            "11/11 [==============================] - 0s 6ms/step - loss: 36.6655 - mae: 4.2350 - val_loss: 50.8647 - val_mae: 5.1368\n",
            "Epoch 30/100\n",
            "11/11 [==============================] - 0s 6ms/step - loss: 34.7131 - mae: 4.0895 - val_loss: 48.0521 - val_mae: 4.9778\n",
            "Epoch 31/100\n",
            "11/11 [==============================] - 0s 6ms/step - loss: 33.1903 - mae: 3.9753 - val_loss: 45.7084 - val_mae: 4.8468\n",
            "Epoch 32/100\n",
            "11/11 [==============================] - 0s 7ms/step - loss: 31.9582 - mae: 3.8883 - val_loss: 43.4781 - val_mae: 4.7071\n",
            "Epoch 33/100\n",
            "11/11 [==============================] - 0s 6ms/step - loss: 30.8248 - mae: 3.7999 - val_loss: 41.4774 - val_mae: 4.5867\n",
            "Epoch 34/100\n",
            "11/11 [==============================] - 0s 7ms/step - loss: 29.8044 - mae: 3.7235 - val_loss: 39.9077 - val_mae: 4.5109\n",
            "Epoch 35/100\n",
            "11/11 [==============================] - 0s 7ms/step - loss: 29.0513 - mae: 3.6747 - val_loss: 38.5693 - val_mae: 4.4467\n",
            "Epoch 36/100\n",
            "11/11 [==============================] - 0s 6ms/step - loss: 28.3573 - mae: 3.6333 - val_loss: 37.5346 - val_mae: 4.4130\n",
            "Epoch 37/100\n",
            "11/11 [==============================] - 0s 6ms/step - loss: 27.8192 - mae: 3.5987 - val_loss: 36.4208 - val_mae: 4.3636\n",
            "Epoch 38/100\n",
            "11/11 [==============================] - 0s 6ms/step - loss: 27.2192 - mae: 3.5651 - val_loss: 35.4607 - val_mae: 4.3278\n",
            "Epoch 39/100\n",
            "11/11 [==============================] - 0s 8ms/step - loss: 26.6672 - mae: 3.5268 - val_loss: 34.6384 - val_mae: 4.2839\n",
            "Epoch 40/100\n",
            "11/11 [==============================] - 0s 6ms/step - loss: 26.2525 - mae: 3.4946 - val_loss: 33.9446 - val_mae: 4.2413\n",
            "Epoch 41/100\n",
            "11/11 [==============================] - 0s 7ms/step - loss: 25.8852 - mae: 3.4724 - val_loss: 33.3918 - val_mae: 4.2274\n",
            "Epoch 42/100\n",
            "11/11 [==============================] - 0s 6ms/step - loss: 25.5127 - mae: 3.4526 - val_loss: 32.7066 - val_mae: 4.1988\n",
            "Epoch 43/100\n",
            "11/11 [==============================] - 0s 7ms/step - loss: 25.1217 - mae: 3.4282 - val_loss: 32.1172 - val_mae: 4.1768\n",
            "Epoch 44/100\n",
            "11/11 [==============================] - 0s 6ms/step - loss: 24.7368 - mae: 3.4084 - val_loss: 31.7403 - val_mae: 4.1585\n",
            "Epoch 45/100\n",
            "11/11 [==============================] - 0s 7ms/step - loss: 24.4498 - mae: 3.3963 - val_loss: 31.2741 - val_mae: 4.1452\n",
            "Epoch 46/100\n",
            "11/11 [==============================] - 0s 6ms/step - loss: 24.0211 - mae: 3.3750 - val_loss: 30.7528 - val_mae: 4.1088\n",
            "Epoch 47/100\n",
            "11/11 [==============================] - 0s 7ms/step - loss: 23.6981 - mae: 3.3597 - val_loss: 30.3731 - val_mae: 4.0832\n",
            "Epoch 48/100\n",
            "11/11 [==============================] - 0s 6ms/step - loss: 23.3679 - mae: 3.3453 - val_loss: 29.8029 - val_mae: 4.0433\n",
            "Epoch 49/100\n",
            "11/11 [==============================] - 0s 7ms/step - loss: 23.0040 - mae: 3.3218 - val_loss: 29.3604 - val_mae: 4.0137\n",
            "Epoch 50/100\n",
            "11/11 [==============================] - 0s 6ms/step - loss: 22.7265 - mae: 3.3050 - val_loss: 28.8481 - val_mae: 3.9888\n",
            "Epoch 51/100\n",
            "11/11 [==============================] - 0s 6ms/step - loss: 22.4384 - mae: 3.2889 - val_loss: 28.3023 - val_mae: 3.9444\n",
            "Epoch 52/100\n",
            "11/11 [==============================] - 0s 6ms/step - loss: 22.1324 - mae: 3.2697 - val_loss: 27.9659 - val_mae: 3.9357\n",
            "Epoch 53/100\n",
            "11/11 [==============================] - 0s 7ms/step - loss: 21.9045 - mae: 3.2607 - val_loss: 27.9380 - val_mae: 3.9562\n",
            "Epoch 54/100\n",
            "11/11 [==============================] - 0s 7ms/step - loss: 21.6264 - mae: 3.2486 - val_loss: 27.5979 - val_mae: 3.9384\n",
            "Epoch 55/100\n",
            "11/11 [==============================] - 0s 6ms/step - loss: 21.4303 - mae: 3.2380 - val_loss: 27.3216 - val_mae: 3.9183\n",
            "Epoch 56/100\n",
            "11/11 [==============================] - 0s 6ms/step - loss: 21.1017 - mae: 3.2150 - val_loss: 26.7307 - val_mae: 3.8491\n",
            "Epoch 57/100\n",
            "11/11 [==============================] - 0s 6ms/step - loss: 20.7818 - mae: 3.1895 - val_loss: 26.4047 - val_mae: 3.8261\n",
            "Epoch 58/100\n",
            "11/11 [==============================] - 0s 7ms/step - loss: 20.6097 - mae: 3.1807 - val_loss: 26.2727 - val_mae: 3.8171\n",
            "Epoch 59/100\n",
            "11/11 [==============================] - 0s 6ms/step - loss: 20.3661 - mae: 3.1596 - val_loss: 25.8570 - val_mae: 3.7775\n",
            "Epoch 60/100\n",
            "11/11 [==============================] - 0s 7ms/step - loss: 20.1324 - mae: 3.1377 - val_loss: 25.5554 - val_mae: 3.7718\n",
            "Epoch 61/100\n",
            "11/11 [==============================] - 0s 7ms/step - loss: 19.8879 - mae: 3.1239 - val_loss: 25.1757 - val_mae: 3.7274\n",
            "Epoch 62/100\n",
            "11/11 [==============================] - 0s 7ms/step - loss: 19.6610 - mae: 3.1003 - val_loss: 24.8876 - val_mae: 3.7040\n",
            "Epoch 63/100\n",
            "11/11 [==============================] - 0s 7ms/step - loss: 19.4607 - mae: 3.0815 - val_loss: 24.3947 - val_mae: 3.6484\n",
            "Epoch 64/100\n",
            "11/11 [==============================] - 0s 6ms/step - loss: 19.2684 - mae: 3.0716 - val_loss: 24.1835 - val_mae: 3.6406\n",
            "Epoch 65/100\n",
            "11/11 [==============================] - 0s 7ms/step - loss: 19.0210 - mae: 3.0555 - val_loss: 24.0769 - val_mae: 3.6360\n",
            "Epoch 66/100\n",
            "11/11 [==============================] - 0s 6ms/step - loss: 18.7846 - mae: 3.0329 - val_loss: 23.8483 - val_mae: 3.6195\n",
            "Epoch 67/100\n",
            "11/11 [==============================] - 0s 7ms/step - loss: 18.5423 - mae: 3.0181 - val_loss: 23.6736 - val_mae: 3.6120\n",
            "Epoch 68/100\n",
            "11/11 [==============================] - 0s 6ms/step - loss: 18.3685 - mae: 3.0103 - val_loss: 23.4359 - val_mae: 3.6014\n",
            "Epoch 69/100\n",
            "11/11 [==============================] - 0s 7ms/step - loss: 18.1652 - mae: 2.9913 - val_loss: 23.1370 - val_mae: 3.5847\n",
            "Epoch 70/100\n",
            "11/11 [==============================] - 0s 6ms/step - loss: 17.9375 - mae: 2.9651 - val_loss: 22.7424 - val_mae: 3.5351\n",
            "Epoch 71/100\n",
            "11/11 [==============================] - 0s 8ms/step - loss: 17.7302 - mae: 2.9369 - val_loss: 22.3538 - val_mae: 3.4840\n",
            "Epoch 72/100\n",
            "11/11 [==============================] - 0s 7ms/step - loss: 17.5093 - mae: 2.9261 - val_loss: 22.2211 - val_mae: 3.4832\n",
            "Epoch 73/100\n",
            "11/11 [==============================] - 0s 6ms/step - loss: 17.3704 - mae: 2.9137 - val_loss: 22.1970 - val_mae: 3.4744\n",
            "Epoch 74/100\n",
            "11/11 [==============================] - 0s 6ms/step - loss: 17.1216 - mae: 2.8829 - val_loss: 21.9623 - val_mae: 3.4661\n",
            "Epoch 75/100\n",
            "11/11 [==============================] - 0s 6ms/step - loss: 16.9259 - mae: 2.8728 - val_loss: 21.7102 - val_mae: 3.4398\n",
            "Epoch 76/100\n",
            "11/11 [==============================] - 0s 6ms/step - loss: 16.7132 - mae: 2.8514 - val_loss: 21.4148 - val_mae: 3.4115\n",
            "Epoch 77/100\n",
            "11/11 [==============================] - 0s 6ms/step - loss: 16.5721 - mae: 2.8296 - val_loss: 21.1534 - val_mae: 3.3900\n",
            "Epoch 78/100\n",
            "11/11 [==============================] - 0s 7ms/step - loss: 16.4292 - mae: 2.8369 - val_loss: 20.9700 - val_mae: 3.3957\n",
            "Epoch 79/100\n",
            "11/11 [==============================] - 0s 7ms/step - loss: 16.0760 - mae: 2.8296 - val_loss: 20.7892 - val_mae: 3.3828\n",
            "Epoch 80/100\n",
            "11/11 [==============================] - 0s 6ms/step - loss: 15.8818 - mae: 2.8085 - val_loss: 20.5033 - val_mae: 3.3655\n",
            "Epoch 81/100\n",
            "11/11 [==============================] - 0s 6ms/step - loss: 15.6824 - mae: 2.7778 - val_loss: 20.2536 - val_mae: 3.3318\n",
            "Epoch 82/100\n",
            "11/11 [==============================] - 0s 7ms/step - loss: 15.5081 - mae: 2.7549 - val_loss: 20.0074 - val_mae: 3.3091\n",
            "Epoch 83/100\n",
            "11/11 [==============================] - 0s 6ms/step - loss: 15.3451 - mae: 2.7356 - val_loss: 19.8463 - val_mae: 3.2944\n",
            "Epoch 84/100\n",
            "11/11 [==============================] - 0s 6ms/step - loss: 15.2316 - mae: 2.7139 - val_loss: 19.6507 - val_mae: 3.2794\n",
            "Epoch 85/100\n",
            "11/11 [==============================] - 0s 6ms/step - loss: 15.0337 - mae: 2.6929 - val_loss: 19.4972 - val_mae: 3.2609\n",
            "Epoch 86/100\n",
            "11/11 [==============================] - 0s 6ms/step - loss: 14.8778 - mae: 2.6793 - val_loss: 19.3479 - val_mae: 3.2480\n",
            "Epoch 87/100\n",
            "11/11 [==============================] - 0s 7ms/step - loss: 14.7276 - mae: 2.6591 - val_loss: 19.1299 - val_mae: 3.2284\n",
            "Epoch 88/100\n",
            "11/11 [==============================] - 0s 6ms/step - loss: 14.5741 - mae: 2.6480 - val_loss: 19.1445 - val_mae: 3.2360\n",
            "Epoch 89/100\n",
            "11/11 [==============================] - 0s 8ms/step - loss: 14.4180 - mae: 2.6302 - val_loss: 18.8405 - val_mae: 3.1996\n",
            "Epoch 90/100\n",
            "11/11 [==============================] - 0s 7ms/step - loss: 14.2510 - mae: 2.6066 - val_loss: 18.5754 - val_mae: 3.1770\n",
            "Epoch 91/100\n",
            "11/11 [==============================] - 0s 7ms/step - loss: 14.0861 - mae: 2.5922 - val_loss: 18.4689 - val_mae: 3.1686\n",
            "Epoch 92/100\n",
            "11/11 [==============================] - 0s 6ms/step - loss: 13.9405 - mae: 2.5882 - val_loss: 18.5053 - val_mae: 3.1768\n",
            "Epoch 93/100\n",
            "11/11 [==============================] - 0s 6ms/step - loss: 13.7808 - mae: 2.5685 - val_loss: 18.3094 - val_mae: 3.1762\n",
            "Epoch 94/100\n",
            "11/11 [==============================] - 0s 6ms/step - loss: 13.7224 - mae: 2.5455 - val_loss: 18.2548 - val_mae: 3.1857\n",
            "Epoch 95/100\n",
            "11/11 [==============================] - 0s 7ms/step - loss: 13.5819 - mae: 2.5325 - val_loss: 18.0861 - val_mae: 3.1586\n",
            "Epoch 96/100\n",
            "11/11 [==============================] - 0s 6ms/step - loss: 13.4551 - mae: 2.5338 - val_loss: 17.8677 - val_mae: 3.1309\n",
            "Epoch 97/100\n",
            "11/11 [==============================] - 0s 6ms/step - loss: 13.2182 - mae: 2.5196 - val_loss: 17.6680 - val_mae: 3.0957\n",
            "Epoch 98/100\n",
            "11/11 [==============================] - 0s 6ms/step - loss: 13.1127 - mae: 2.5115 - val_loss: 17.4102 - val_mae: 3.0609\n",
            "Epoch 99/100\n",
            "11/11 [==============================] - 0s 6ms/step - loss: 13.0161 - mae: 2.4927 - val_loss: 17.2764 - val_mae: 3.0414\n",
            "Epoch 100/100\n",
            "11/11 [==============================] - 0s 6ms/step - loss: 12.8473 - mae: 2.4693 - val_loss: 17.2106 - val_mae: 3.0431\n"
          ]
        }
      ]
    },
    {
      "cell_type": "code",
      "source": [
        "hist = pd.DataFrame(history.history)\n",
        "hist['epoch'] = history.epoch\n",
        "hist.tail()"
      ],
      "metadata": {
        "colab": {
          "base_uri": "https://localhost:8080/",
          "height": 206
        },
        "id": "Gkev8Lmk_fe4",
        "outputId": "d4062f81-0778-4461-f241-3f83a2465e29"
      },
      "execution_count": 9,
      "outputs": [
        {
          "output_type": "execute_result",
          "data": {
            "text/html": [
              "\n",
              "  <div id=\"df-90c6e37b-13ec-4473-aab9-e94077cd64c6\">\n",
              "    <div class=\"colab-df-container\">\n",
              "      <div>\n",
              "<style scoped>\n",
              "    .dataframe tbody tr th:only-of-type {\n",
              "        vertical-align: middle;\n",
              "    }\n",
              "\n",
              "    .dataframe tbody tr th {\n",
              "        vertical-align: top;\n",
              "    }\n",
              "\n",
              "    .dataframe thead th {\n",
              "        text-align: right;\n",
              "    }\n",
              "</style>\n",
              "<table border=\"1\" class=\"dataframe\">\n",
              "  <thead>\n",
              "    <tr style=\"text-align: right;\">\n",
              "      <th></th>\n",
              "      <th>loss</th>\n",
              "      <th>mae</th>\n",
              "      <th>val_loss</th>\n",
              "      <th>val_mae</th>\n",
              "      <th>epoch</th>\n",
              "    </tr>\n",
              "  </thead>\n",
              "  <tbody>\n",
              "    <tr>\n",
              "      <th>95</th>\n",
              "      <td>13.455131</td>\n",
              "      <td>2.533772</td>\n",
              "      <td>17.867737</td>\n",
              "      <td>3.130894</td>\n",
              "      <td>95</td>\n",
              "    </tr>\n",
              "    <tr>\n",
              "      <th>96</th>\n",
              "      <td>13.218198</td>\n",
              "      <td>2.519633</td>\n",
              "      <td>17.668032</td>\n",
              "      <td>3.095742</td>\n",
              "      <td>96</td>\n",
              "    </tr>\n",
              "    <tr>\n",
              "      <th>97</th>\n",
              "      <td>13.112653</td>\n",
              "      <td>2.511486</td>\n",
              "      <td>17.410177</td>\n",
              "      <td>3.060920</td>\n",
              "      <td>97</td>\n",
              "    </tr>\n",
              "    <tr>\n",
              "      <th>98</th>\n",
              "      <td>13.016086</td>\n",
              "      <td>2.492742</td>\n",
              "      <td>17.276356</td>\n",
              "      <td>3.041364</td>\n",
              "      <td>98</td>\n",
              "    </tr>\n",
              "    <tr>\n",
              "      <th>99</th>\n",
              "      <td>12.847334</td>\n",
              "      <td>2.469260</td>\n",
              "      <td>17.210644</td>\n",
              "      <td>3.043084</td>\n",
              "      <td>99</td>\n",
              "    </tr>\n",
              "  </tbody>\n",
              "</table>\n",
              "</div>\n",
              "      <button class=\"colab-df-convert\" onclick=\"convertToInteractive('df-90c6e37b-13ec-4473-aab9-e94077cd64c6')\"\n",
              "              title=\"Convert this dataframe to an interactive table.\"\n",
              "              style=\"display:none;\">\n",
              "        \n",
              "  <svg xmlns=\"http://www.w3.org/2000/svg\" height=\"24px\"viewBox=\"0 0 24 24\"\n",
              "       width=\"24px\">\n",
              "    <path d=\"M0 0h24v24H0V0z\" fill=\"none\"/>\n",
              "    <path d=\"M18.56 5.44l.94 2.06.94-2.06 2.06-.94-2.06-.94-.94-2.06-.94 2.06-2.06.94zm-11 1L8.5 8.5l.94-2.06 2.06-.94-2.06-.94L8.5 2.5l-.94 2.06-2.06.94zm10 10l.94 2.06.94-2.06 2.06-.94-2.06-.94-.94-2.06-.94 2.06-2.06.94z\"/><path d=\"M17.41 7.96l-1.37-1.37c-.4-.4-.92-.59-1.43-.59-.52 0-1.04.2-1.43.59L10.3 9.45l-7.72 7.72c-.78.78-.78 2.05 0 2.83L4 21.41c.39.39.9.59 1.41.59.51 0 1.02-.2 1.41-.59l7.78-7.78 2.81-2.81c.8-.78.8-2.07 0-2.86zM5.41 20L4 18.59l7.72-7.72 1.47 1.35L5.41 20z\"/>\n",
              "  </svg>\n",
              "      </button>\n",
              "      \n",
              "  <style>\n",
              "    .colab-df-container {\n",
              "      display:flex;\n",
              "      flex-wrap:wrap;\n",
              "      gap: 12px;\n",
              "    }\n",
              "\n",
              "    .colab-df-convert {\n",
              "      background-color: #E8F0FE;\n",
              "      border: none;\n",
              "      border-radius: 50%;\n",
              "      cursor: pointer;\n",
              "      display: none;\n",
              "      fill: #1967D2;\n",
              "      height: 32px;\n",
              "      padding: 0 0 0 0;\n",
              "      width: 32px;\n",
              "    }\n",
              "\n",
              "    .colab-df-convert:hover {\n",
              "      background-color: #E2EBFA;\n",
              "      box-shadow: 0px 1px 2px rgba(60, 64, 67, 0.3), 0px 1px 3px 1px rgba(60, 64, 67, 0.15);\n",
              "      fill: #174EA6;\n",
              "    }\n",
              "\n",
              "    [theme=dark] .colab-df-convert {\n",
              "      background-color: #3B4455;\n",
              "      fill: #D2E3FC;\n",
              "    }\n",
              "\n",
              "    [theme=dark] .colab-df-convert:hover {\n",
              "      background-color: #434B5C;\n",
              "      box-shadow: 0px 1px 3px 1px rgba(0, 0, 0, 0.15);\n",
              "      filter: drop-shadow(0px 1px 2px rgba(0, 0, 0, 0.3));\n",
              "      fill: #FFFFFF;\n",
              "    }\n",
              "  </style>\n",
              "\n",
              "      <script>\n",
              "        const buttonEl =\n",
              "          document.querySelector('#df-90c6e37b-13ec-4473-aab9-e94077cd64c6 button.colab-df-convert');\n",
              "        buttonEl.style.display =\n",
              "          google.colab.kernel.accessAllowed ? 'block' : 'none';\n",
              "\n",
              "        async function convertToInteractive(key) {\n",
              "          const element = document.querySelector('#df-90c6e37b-13ec-4473-aab9-e94077cd64c6');\n",
              "          const dataTable =\n",
              "            await google.colab.kernel.invokeFunction('convertToInteractive',\n",
              "                                                     [key], {});\n",
              "          if (!dataTable) return;\n",
              "\n",
              "          const docLinkHtml = 'Like what you see? Visit the ' +\n",
              "            '<a target=\"_blank\" href=https://colab.research.google.com/notebooks/data_table.ipynb>data table notebook</a>'\n",
              "            + ' to learn more about interactive tables.';\n",
              "          element.innerHTML = '';\n",
              "          dataTable['output_type'] = 'display_data';\n",
              "          await google.colab.output.renderOutput(dataTable, element);\n",
              "          const docLink = document.createElement('div');\n",
              "          docLink.innerHTML = docLinkHtml;\n",
              "          element.appendChild(docLink);\n",
              "        }\n",
              "      </script>\n",
              "    </div>\n",
              "  </div>\n",
              "  "
            ],
            "text/plain": [
              "         loss       mae   val_loss   val_mae  epoch\n",
              "95  13.455131  2.533772  17.867737  3.130894     95\n",
              "96  13.218198  2.519633  17.668032  3.095742     96\n",
              "97  13.112653  2.511486  17.410177  3.060920     97\n",
              "98  13.016086  2.492742  17.276356  3.041364     98\n",
              "99  12.847334  2.469260  17.210644  3.043084     99"
            ]
          },
          "metadata": {},
          "execution_count": 9
        }
      ]
    },
    {
      "cell_type": "code",
      "source": [
        "def plot_loss(history):\n",
        "  plt.plot(history.history['loss'], label='loss')\n",
        "  plt.plot(history.history['val_loss'], label='val_loss')\n",
        "  plt.ylim([0, 600])\n",
        "  plt.xlabel('Epoch')\n",
        "  plt.ylabel('Error')\n",
        "  plt.legend()\n",
        "  plt.grid(True)"
      ],
      "metadata": {
        "id": "fUGNr0x8_znm"
      },
      "execution_count": 25,
      "outputs": []
    },
    {
      "cell_type": "code",
      "source": [
        "plot_loss(history)"
      ],
      "metadata": {
        "colab": {
          "base_uri": "https://localhost:8080/",
          "height": 283
        },
        "id": "llUFChsD_5mv",
        "outputId": "4d949437-60c8-4546-c966-543f9b640cd3"
      },
      "execution_count": 26,
      "outputs": [
        {
          "output_type": "display_data",
          "data": {
            "image/png": "[encoded data removed]",
            "text/plain": [
              "<Figure size 432x288 with 1 Axes>"
            ]
          },
          "metadata": {
            "needs_background": "light"
          }
        }
      ]
    },
    {
      "cell_type": "code",
      "source": [
        "#Оценка точности модели\n",
        "mse, mae = model.evaluate(x_test, y_test, verbose=0)"
      ],
      "metadata": {
        "id": "UWtUaR3U9KHI"
      },
      "execution_count": 12,
      "outputs": []
    },
    {
      "cell_type": "code",
      "source": [
        "print(\"Средняя абсолютная ошибка (тысяч долларов):\", mae)"
      ],
      "metadata": {
        "colab": {
          "base_uri": "https://localhost:8080/"
        },
        "id": "z8KMHWAp9R2_",
        "outputId": "6ab89f96-d689-4358-c126-509c51c70c3c"
      },
      "execution_count": 13,
      "outputs": [
        {
          "output_type": "stream",
          "name": "stdout",
          "text": [
            "Средняя абсолютная ошибка (тысяч долларов): 3.363060474395752\n"
          ]
        }
      ]
    },
    {
      "cell_type": "code",
      "source": [
        "#Предсказание\n",
        "pred = model.predict(x_test)"
      ],
      "metadata": {
        "id": "2gtudltn9XtI"
      },
      "execution_count": 14,
      "outputs": []
    },
    {
      "cell_type": "code",
      "source": [
        "print(\"Предсказанная стоимость:\", pred[1][0], \", правильная стоимость:\", y_test[1])"
      ],
      "metadata": {
        "colab": {
          "base_uri": "https://localhost:8080/"
        },
        "id": "Y2BxyC-_9dKv",
        "outputId": "1af2b5d5-05b3-4e83-e051-4b89c019d126"
      },
      "execution_count": 15,
      "outputs": [
        {
          "output_type": "stream",
          "name": "stdout",
          "text": [
            "Предсказанная стоимость: 17.427612 , правильная стоимость: 18.8\n"
          ]
        }
      ]
    }
  ]
}