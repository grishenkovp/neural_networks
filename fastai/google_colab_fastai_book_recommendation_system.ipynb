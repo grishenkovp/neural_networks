{
  "nbformat": 4,
  "nbformat_minor": 0,
  "metadata": {
    "colab": {
      "name": "google_colab_fastai_book_recommendation_system.ipynb",
      "provenance": [],
      "collapsed_sections": []
    },
    "kernelspec": {
      "name": "python3",
      "display_name": "Python 3"
    },
    "language_info": {
      "name": "python"
    },
    "accelerator": "GPU"
  },
  "cells": [
    {
      "cell_type": "code",
      "metadata": {
        "id": "CV1F-80xixC4"
      },
      "source": [
        "from fastai.collab import *\n",
        "import pandas as pd\n",
        "import numpy as np"
      ],
      "execution_count": 1,
      "outputs": []
    },
    {
      "cell_type": "code",
      "metadata": {
        "id": "IB00Tg4njC_H"
      },
      "source": [
        "url_books = 'https://raw.githubusercontent.com/TannerGilbert/Tutorials/master/Recommendation%20System/books.csv'\n",
        "url_ratings = 'https://raw.githubusercontent.com/TannerGilbert/Tutorials/master/Recommendation%20System/ratings.csv'"
      ],
      "execution_count": 2,
      "outputs": []
    },
    {
      "cell_type": "code",
      "metadata": {
        "id": "c7f6MCSsjhG2"
      },
      "source": [
        "ratings = pd.read_csv(url_ratings, error_bad_lines=False, warn_bad_lines=False)"
      ],
      "execution_count": 3,
      "outputs": []
    },
    {
      "cell_type": "code",
      "metadata": {
        "colab": {
          "base_uri": "https://localhost:8080/"
        },
        "id": "_kBCPy-Zml-g",
        "outputId": "d1ccc7c9-6cac-4174-fba0-7d341a393742"
      },
      "source": [
        "print(ratings.head(5))\n",
        "print('---------------------')\n",
        "print(ratings.shape)\n",
        "print('---------------------')\n",
        "print(ratings.isnull().sum())\n"
      ],
      "execution_count": 4,
      "outputs": [
        {
          "output_type": "stream",
          "text": [
            "   book_id  user_id  rating\n",
            "0        1      314       5\n",
            "1        1      439       3\n",
            "2        1      588       5\n",
            "3        1     1169       4\n",
            "4        1     1185       4\n",
            "---------------------\n",
            "(981756, 3)\n",
            "---------------------\n",
            "book_id    0\n",
            "user_id    0\n",
            "rating     0\n",
            "dtype: int64\n"
          ],
          "name": "stdout"
        }
      ]
    },
    {
      "cell_type": "code",
      "metadata": {
        "id": "Rfo9aL1Zn0Un"
      },
      "source": [
        "data = CollabDataBunch.from_df(ratings, seed=42, valid_pct=0.1, user_name='user_id', item_name='book_id', rating_name='rating')"
      ],
      "execution_count": 5,
      "outputs": []
    },
    {
      "cell_type": "code",
      "metadata": {
        "colab": {
          "base_uri": "https://localhost:8080/",
          "height": 204
        },
        "id": "4BtV0po5ovtO",
        "outputId": "9f383d33-b899-4dc4-b510-e0f5f1e7d5db"
      },
      "source": [
        "data.show_batch()"
      ],
      "execution_count": 6,
      "outputs": [
        {
          "output_type": "display_data",
          "data": {
            "text/html": [
              "<table border=\"1\" class=\"dataframe\">\n",
              "  <thead>\n",
              "    <tr style=\"text-align: right;\">\n",
              "      <th>user_id</th>\n",
              "      <th>book_id</th>\n",
              "      <th>target</th>\n",
              "    </tr>\n",
              "  </thead>\n",
              "  <tbody>\n",
              "    <tr>\n",
              "      <td>38990</td>\n",
              "      <td>9040</td>\n",
              "      <td>3.0</td>\n",
              "    </tr>\n",
              "    <tr>\n",
              "      <td>14563</td>\n",
              "      <td>6765</td>\n",
              "      <td>4.0</td>\n",
              "    </tr>\n",
              "    <tr>\n",
              "      <td>3205</td>\n",
              "      <td>5499</td>\n",
              "      <td>4.0</td>\n",
              "    </tr>\n",
              "    <tr>\n",
              "      <td>6689</td>\n",
              "      <td>4680</td>\n",
              "      <td>2.0</td>\n",
              "    </tr>\n",
              "    <tr>\n",
              "      <td>36752</td>\n",
              "      <td>2404</td>\n",
              "      <td>4.0</td>\n",
              "    </tr>\n",
              "  </tbody>\n",
              "</table>"
            ],
            "text/plain": [
              "<IPython.core.display.HTML object>"
            ]
          },
          "metadata": {
            "tags": []
          }
        }
      ]
    },
    {
      "cell_type": "code",
      "metadata": {
        "colab": {
          "base_uri": "https://localhost:8080/"
        },
        "id": "bInoY4J9oxGW",
        "outputId": "69243562-e6ca-4dd5-e933-37ced4de04a5"
      },
      "source": [
        "ratings.rating.min(), ratings.rating.max()"
      ],
      "execution_count": 7,
      "outputs": [
        {
          "output_type": "execute_result",
          "data": {
            "text/plain": [
              "(1, 5)"
            ]
          },
          "metadata": {
            "tags": []
          },
          "execution_count": 7
        }
      ]
    },
    {
      "cell_type": "markdown",
      "metadata": {
        "id": "x44ezHsWpnZg"
      },
      "source": [
        "### EmbeddingDotBias Model"
      ]
    },
    {
      "cell_type": "code",
      "metadata": {
        "id": "8pQfD0yLppin"
      },
      "source": [
        "learn = collab_learner(data, n_factors=40, y_range=(1, 5), wd=1e-1, model_dir=\"/tmp/model/\", path=\"/tmp/\")"
      ],
      "execution_count": 8,
      "outputs": []
    },
    {
      "cell_type": "code",
      "metadata": {
        "colab": {
          "base_uri": "https://localhost:8080/"
        },
        "id": "fakQDNepptuf",
        "outputId": "f1be194a-73ae-4d01-f022-f1df8aa4c8d5"
      },
      "source": [
        "print(learn.summary())"
      ],
      "execution_count": 9,
      "outputs": [
        {
          "output_type": "stream",
          "text": [
            "EmbeddingDotBias\n",
            "======================================================================\n",
            "Layer (type)         Output Shape         Param #    Trainable \n",
            "======================================================================\n",
            "Embedding            [40]                 2,134,040  True      \n",
            "______________________________________________________________________\n",
            "Embedding            [40]                 400,040    True      \n",
            "______________________________________________________________________\n",
            "Embedding            [1]                  53,351     True      \n",
            "______________________________________________________________________\n",
            "Embedding            [1]                  10,001     True      \n",
            "______________________________________________________________________\n",
            "\n",
            "Total params: 2,597,432\n",
            "Total trainable params: 2,597,432\n",
            "Total non-trainable params: 0\n",
            "Optimized with 'torch.optim.adam.Adam', betas=(0.9, 0.99)\n",
            "Using true weight decay as discussed in https://www.fast.ai/2018/07/02/adam-weight-decay/ \n",
            "Loss function : FlattenedLoss\n",
            "======================================================================\n",
            "Callbacks functions applied \n",
            "\n"
          ],
          "name": "stdout"
        }
      ]
    },
    {
      "cell_type": "code",
      "metadata": {
        "colab": {
          "base_uri": "https://localhost:8080/",
          "height": 374
        },
        "id": "zNyzT8u9puZf",
        "outputId": "d6a105f3-bd8c-4891-d83a-d502f652169f"
      },
      "source": [
        "learn.lr_find()\n",
        "learn.recorder.plot()"
      ],
      "execution_count": 10,
      "outputs": [
        {
          "output_type": "display_data",
          "data": {
            "text/html": [
              "\n",
              "    <div>\n",
              "        <style>\n",
              "            /* Turns off some styling */\n",
              "            progress {\n",
              "                /* gets rid of default border in Firefox and Opera. */\n",
              "                border: none;\n",
              "                /* Needs to be in here for Safari polyfill so background images work as expected. */\n",
              "                background-size: auto;\n",
              "            }\n",
              "            .progress-bar-interrupted, .progress-bar-interrupted::-webkit-progress-bar {\n",
              "                background: #F44336;\n",
              "            }\n",
              "        </style>\n",
              "      <progress value='0' class='' max='1' style='width:300px; height:20px; vertical-align: middle;'></progress>\n",
              "      0.00% [0/1 00:00<00:00]\n",
              "    </div>\n",
              "    \n",
              "<table border=\"1\" class=\"dataframe\">\n",
              "  <thead>\n",
              "    <tr style=\"text-align: left;\">\n",
              "      <th>epoch</th>\n",
              "      <th>train_loss</th>\n",
              "      <th>valid_loss</th>\n",
              "      <th>time</th>\n",
              "    </tr>\n",
              "  </thead>\n",
              "  <tbody>\n",
              "  </tbody>\n",
              "</table><p>\n",
              "\n",
              "    <div>\n",
              "        <style>\n",
              "            /* Turns off some styling */\n",
              "            progress {\n",
              "                /* gets rid of default border in Firefox and Opera. */\n",
              "                border: none;\n",
              "                /* Needs to be in here for Safari polyfill so background images work as expected. */\n",
              "                background-size: auto;\n",
              "            }\n",
              "            .progress-bar-interrupted, .progress-bar-interrupted::-webkit-progress-bar {\n",
              "                background: #F44336;\n",
              "            }\n",
              "        </style>\n",
              "      <progress value='83' class='' max='13805' style='width:300px; height:20px; vertical-align: middle;'></progress>\n",
              "      0.60% [83/13805 00:00<01:50 1.7383]\n",
              "    </div>\n",
              "    "
            ],
            "text/plain": [
              "<IPython.core.display.HTML object>"
            ]
          },
          "metadata": {
            "tags": []
          }
        },
        {
          "output_type": "stream",
          "text": [
            "LR Finder is complete, type {learner_name}.recorder.plot() to see the graph.\n"
          ],
          "name": "stdout"
        },
        {
          "output_type": "display_data",
          "data": {
            "image/png": "[encoded data removed]",
            "text/plain": [
              "<Figure size 432x288 with 1 Axes>"
            ]
          },
          "metadata": {
            "tags": [],
            "needs_background": "light"
          }
        }
      ]
    },
    {
      "cell_type": "code",
      "metadata": {
        "colab": {
          "base_uri": "https://localhost:8080/",
          "height": 204
        },
        "id": "tyeYhGK5pzd3",
        "outputId": "96847a98-ea66-4982-f9fa-7401c318aa34"
      },
      "source": [
        "learn.fit_one_cycle(5, 3e-4)"
      ],
      "execution_count": 11,
      "outputs": [
        {
          "output_type": "display_data",
          "data": {
            "text/html": [
              "<table border=\"1\" class=\"dataframe\">\n",
              "  <thead>\n",
              "    <tr style=\"text-align: left;\">\n",
              "      <th>epoch</th>\n",
              "      <th>train_loss</th>\n",
              "      <th>valid_loss</th>\n",
              "      <th>time</th>\n",
              "    </tr>\n",
              "  </thead>\n",
              "  <tbody>\n",
              "    <tr>\n",
              "      <td>0</td>\n",
              "      <td>1.594781</td>\n",
              "      <td>1.589042</td>\n",
              "      <td>01:25</td>\n",
              "    </tr>\n",
              "    <tr>\n",
              "      <td>1</td>\n",
              "      <td>1.303363</td>\n",
              "      <td>1.309850</td>\n",
              "      <td>01:25</td>\n",
              "    </tr>\n",
              "    <tr>\n",
              "      <td>2</td>\n",
              "      <td>1.086796</td>\n",
              "      <td>1.124759</td>\n",
              "      <td>01:26</td>\n",
              "    </tr>\n",
              "    <tr>\n",
              "      <td>3</td>\n",
              "      <td>1.037156</td>\n",
              "      <td>1.061335</td>\n",
              "      <td>01:27</td>\n",
              "    </tr>\n",
              "    <tr>\n",
              "      <td>4</td>\n",
              "      <td>1.001634</td>\n",
              "      <td>1.051944</td>\n",
              "      <td>01:27</td>\n",
              "    </tr>\n",
              "  </tbody>\n",
              "</table>"
            ],
            "text/plain": [
              "<IPython.core.display.HTML object>"
            ]
          },
          "metadata": {
            "tags": []
          }
        }
      ]
    },
    {
      "cell_type": "code",
      "metadata": {
        "id": "xaPylnWip1eo"
      },
      "source": [
        "learn.save('goodbooks-dot-1')"
      ],
      "execution_count": 12,
      "outputs": []
    },
    {
      "cell_type": "markdown",
      "metadata": {
        "id": "NZ6jvN2vswag"
      },
      "source": [
        "### EmbeddingNN Model"
      ]
    },
    {
      "cell_type": "code",
      "metadata": {
        "id": "YPNeI8FCsyXX"
      },
      "source": [
        "learn = collab_learner(data, use_nn=True, emb_szs={'user_id': 40, 'book_id':40}, layers=[256, 128], y_range=(1, 5))"
      ],
      "execution_count": 13,
      "outputs": []
    },
    {
      "cell_type": "code",
      "metadata": {
        "colab": {
          "base_uri": "https://localhost:8080/",
          "height": 374
        },
        "id": "l3BbRnxUs1GX",
        "outputId": "e96f7982-380f-4e74-cc1c-d99212611d58"
      },
      "source": [
        "learn.lr_find()\n",
        "learn.recorder.plot()"
      ],
      "execution_count": 14,
      "outputs": [
        {
          "output_type": "display_data",
          "data": {
            "text/html": [
              "\n",
              "    <div>\n",
              "        <style>\n",
              "            /* Turns off some styling */\n",
              "            progress {\n",
              "                /* gets rid of default border in Firefox and Opera. */\n",
              "                border: none;\n",
              "                /* Needs to be in here for Safari polyfill so background images work as expected. */\n",
              "                background-size: auto;\n",
              "            }\n",
              "            .progress-bar-interrupted, .progress-bar-interrupted::-webkit-progress-bar {\n",
              "                background: #F44336;\n",
              "            }\n",
              "        </style>\n",
              "      <progress value='0' class='' max='1' style='width:300px; height:20px; vertical-align: middle;'></progress>\n",
              "      0.00% [0/1 00:00<00:00]\n",
              "    </div>\n",
              "    \n",
              "<table border=\"1\" class=\"dataframe\">\n",
              "  <thead>\n",
              "    <tr style=\"text-align: left;\">\n",
              "      <th>epoch</th>\n",
              "      <th>train_loss</th>\n",
              "      <th>valid_loss</th>\n",
              "      <th>time</th>\n",
              "    </tr>\n",
              "  </thead>\n",
              "  <tbody>\n",
              "  </tbody>\n",
              "</table><p>\n",
              "\n",
              "    <div>\n",
              "        <style>\n",
              "            /* Turns off some styling */\n",
              "            progress {\n",
              "                /* gets rid of default border in Firefox and Opera. */\n",
              "                border: none;\n",
              "                /* Needs to be in here for Safari polyfill so background images work as expected. */\n",
              "                background-size: auto;\n",
              "            }\n",
              "            .progress-bar-interrupted, .progress-bar-interrupted::-webkit-progress-bar {\n",
              "                background: #F44336;\n",
              "            }\n",
              "        </style>\n",
              "      <progress value='89' class='' max='13805' style='width:300px; height:20px; vertical-align: middle;'></progress>\n",
              "      0.64% [89/13805 00:00<02:04 1.8760]\n",
              "    </div>\n",
              "    "
            ],
            "text/plain": [
              "<IPython.core.display.HTML object>"
            ]
          },
          "metadata": {
            "tags": []
          }
        },
        {
          "output_type": "stream",
          "text": [
            "LR Finder is complete, type {learner_name}.recorder.plot() to see the graph.\n"
          ],
          "name": "stdout"
        },
        {
          "output_type": "display_data",
          "data": {
            "image/png": "[encoded data removed]",
            "text/plain": [
              "<Figure size 432x288 with 1 Axes>"
            ]
          },
          "metadata": {
            "tags": [],
            "needs_background": "light"
          }
        }
      ]
    },
    {
      "cell_type": "code",
      "metadata": {
        "colab": {
          "base_uri": "https://localhost:8080/",
          "height": 204
        },
        "id": "iPlilVT-s4CG",
        "outputId": "61f12a40-e4a7-4f54-a50b-62375f88d037"
      },
      "source": [
        "learn.fit_one_cycle(5, 1e-2)"
      ],
      "execution_count": 15,
      "outputs": [
        {
          "output_type": "display_data",
          "data": {
            "text/html": [
              "<table border=\"1\" class=\"dataframe\">\n",
              "  <thead>\n",
              "    <tr style=\"text-align: left;\">\n",
              "      <th>epoch</th>\n",
              "      <th>train_loss</th>\n",
              "      <th>valid_loss</th>\n",
              "      <th>time</th>\n",
              "    </tr>\n",
              "  </thead>\n",
              "  <tbody>\n",
              "    <tr>\n",
              "      <td>0</td>\n",
              "      <td>0.775666</td>\n",
              "      <td>0.770553</td>\n",
              "      <td>01:47</td>\n",
              "    </tr>\n",
              "    <tr>\n",
              "      <td>1</td>\n",
              "      <td>0.743732</td>\n",
              "      <td>0.741402</td>\n",
              "      <td>01:46</td>\n",
              "    </tr>\n",
              "    <tr>\n",
              "      <td>2</td>\n",
              "      <td>0.725416</td>\n",
              "      <td>0.721545</td>\n",
              "      <td>01:46</td>\n",
              "    </tr>\n",
              "    <tr>\n",
              "      <td>3</td>\n",
              "      <td>0.662722</td>\n",
              "      <td>0.707203</td>\n",
              "      <td>01:47</td>\n",
              "    </tr>\n",
              "    <tr>\n",
              "      <td>4</td>\n",
              "      <td>0.630768</td>\n",
              "      <td>0.716814</td>\n",
              "      <td>01:45</td>\n",
              "    </tr>\n",
              "  </tbody>\n",
              "</table>"
            ],
            "text/plain": [
              "<IPython.core.display.HTML object>"
            ]
          },
          "metadata": {
            "tags": []
          }
        }
      ]
    },
    {
      "cell_type": "code",
      "metadata": {
        "id": "J41zc2DHu__h"
      },
      "source": [
        "learn.save('goodbooks-nn-1')"
      ],
      "execution_count": 16,
      "outputs": []
    },
    {
      "cell_type": "markdown",
      "metadata": {
        "id": "JdQB0NoNvEYw"
      },
      "source": [
        "### Interpretation"
      ]
    },
    {
      "cell_type": "code",
      "metadata": {
        "colab": {
          "base_uri": "https://localhost:8080/"
        },
        "id": "SXjWb6NsvF9P",
        "outputId": "81894b09-c655-46d2-a49e-6523f882bfe1"
      },
      "source": [
        "learn = collab_learner(data, n_factors=40, y_range=(1, 5), wd=1e-1, model_dir=\"/tmp/model/\", path=\"/tmp/\")\n",
        "learn.load('goodbooks-dot-1')"
      ],
      "execution_count": 17,
      "outputs": [
        {
          "output_type": "execute_result",
          "data": {
            "text/plain": [
              "CollabLearner(data=TabularDataBunch;\n",
              "\n",
              "Train: LabelList (883581 items)\n",
              "x: CollabList\n",
              "user_id 314; book_id 1; ,user_id 439; book_id 1; ,user_id 588; book_id 1; ,user_id 1169; book_id 1; ,user_id 1185; book_id 1; \n",
              "y: FloatList\n",
              "5.0,3.0,5.0,4.0,4.0\n",
              "Path: .;\n",
              "\n",
              "Valid: LabelList (98175 items)\n",
              "x: CollabList\n",
              "user_id 19643; book_id 6495; ,user_id 8563; book_id 6175; ,user_id 52110; book_id 9920; ,user_id 33864; book_id 215; ,user_id 16587; book_id 2728; \n",
              "y: FloatList\n",
              "5.0,4.0,3.0,5.0,3.0\n",
              "Path: .;\n",
              "\n",
              "Test: None, model=EmbeddingDotBias(\n",
              "  (u_weight): Embedding(53351, 40)\n",
              "  (i_weight): Embedding(10001, 40)\n",
              "  (u_bias): Embedding(53351, 1)\n",
              "  (i_bias): Embedding(10001, 1)\n",
              "), opt_func=functools.partial(<class 'torch.optim.adam.Adam'>, betas=(0.9, 0.99)), loss_func=FlattenedLoss of MSELoss(), metrics=[], true_wd=True, bn_wd=True, wd=0.1, train_bn=True, path=PosixPath('/tmp'), model_dir='/tmp/model/', callback_fns=[functools.partial(<class 'fastai.basic_train.Recorder'>, add_time=True, silent=False)], callbacks=[], layer_groups=[Sequential(\n",
              "  (0): Embedding(53351, 40)\n",
              "  (1): Embedding(10001, 40)\n",
              "  (2): Embedding(53351, 1)\n",
              "  (3): Embedding(10001, 1)\n",
              ")], add_time=True, silent=False)"
            ]
          },
          "metadata": {
            "tags": []
          },
          "execution_count": 17
        }
      ]
    },
    {
      "cell_type": "code",
      "metadata": {
        "id": "UQBJIwZcvNu_"
      },
      "source": [
        "books = pd.read_csv(url_books, error_bad_lines=False, warn_bad_lines=False)"
      ],
      "execution_count": 18,
      "outputs": []
    },
    {
      "cell_type": "code",
      "metadata": {
        "colab": {
          "base_uri": "https://localhost:8080/",
          "height": 428
        },
        "id": "kOUFNhhgvluH",
        "outputId": "8be78140-7a71-43d6-b342-55cce63e55df"
      },
      "source": [
        "books.head()"
      ],
      "execution_count": 19,
      "outputs": [
        {
          "output_type": "execute_result",
          "data": {
            "text/html": [
              "<div>\n",
              "<style scoped>\n",
              "    .dataframe tbody tr th:only-of-type {\n",
              "        vertical-align: middle;\n",
              "    }\n",
              "\n",
              "    .dataframe tbody tr th {\n",
              "        vertical-align: top;\n",
              "    }\n",
              "\n",
              "    .dataframe thead th {\n",
              "        text-align: right;\n",
              "    }\n",
              "</style>\n",
              "<table border=\"1\" class=\"dataframe\">\n",
              "  <thead>\n",
              "    <tr style=\"text-align: right;\">\n",
              "      <th></th>\n",
              "      <th>id</th>\n",
              "      <th>book_id</th>\n",
              "      <th>best_book_id</th>\n",
              "      <th>work_id</th>\n",
              "      <th>books_count</th>\n",
              "      <th>isbn</th>\n",
              "      <th>isbn13</th>\n",
              "      <th>authors</th>\n",
              "      <th>original_publication_year</th>\n",
              "      <th>original_title</th>\n",
              "      <th>title</th>\n",
              "      <th>language_code</th>\n",
              "      <th>average_rating</th>\n",
              "      <th>ratings_count</th>\n",
              "      <th>work_ratings_count</th>\n",
              "      <th>work_text_reviews_count</th>\n",
              "      <th>ratings_1</th>\n",
              "      <th>ratings_2</th>\n",
              "      <th>ratings_3</th>\n",
              "      <th>ratings_4</th>\n",
              "      <th>ratings_5</th>\n",
              "      <th>image_url</th>\n",
              "      <th>small_image_url</th>\n",
              "    </tr>\n",
              "  </thead>\n",
              "  <tbody>\n",
              "    <tr>\n",
              "      <th>0</th>\n",
              "      <td>1</td>\n",
              "      <td>2767052</td>\n",
              "      <td>2767052</td>\n",
              "      <td>2792775</td>\n",
              "      <td>272</td>\n",
              "      <td>439023483</td>\n",
              "      <td>9.780439e+12</td>\n",
              "      <td>Suzanne Collins</td>\n",
              "      <td>2008.0</td>\n",
              "      <td>The Hunger Games</td>\n",
              "      <td>The Hunger Games (The Hunger Games, #1)</td>\n",
              "      <td>eng</td>\n",
              "      <td>4.34</td>\n",
              "      <td>4780653</td>\n",
              "      <td>4942365</td>\n",
              "      <td>155254</td>\n",
              "      <td>66715</td>\n",
              "      <td>127936</td>\n",
              "      <td>560092</td>\n",
              "      <td>1481305</td>\n",
              "      <td>2706317</td>\n",
              "      <td>https://images.gr-assets.com/books/1447303603m...</td>\n",
              "      <td>https://images.gr-assets.com/books/1447303603s...</td>\n",
              "    </tr>\n",
              "    <tr>\n",
              "      <th>1</th>\n",
              "      <td>2</td>\n",
              "      <td>3</td>\n",
              "      <td>3</td>\n",
              "      <td>4640799</td>\n",
              "      <td>491</td>\n",
              "      <td>439554934</td>\n",
              "      <td>9.780440e+12</td>\n",
              "      <td>J.K. Rowling, Mary GrandPré</td>\n",
              "      <td>1997.0</td>\n",
              "      <td>Harry Potter and the Philosopher's Stone</td>\n",
              "      <td>Harry Potter and the Sorcerer's Stone (Harry P...</td>\n",
              "      <td>eng</td>\n",
              "      <td>4.44</td>\n",
              "      <td>4602479</td>\n",
              "      <td>4800065</td>\n",
              "      <td>75867</td>\n",
              "      <td>75504</td>\n",
              "      <td>101676</td>\n",
              "      <td>455024</td>\n",
              "      <td>1156318</td>\n",
              "      <td>3011543</td>\n",
              "      <td>https://images.gr-assets.com/books/1474154022m...</td>\n",
              "      <td>https://images.gr-assets.com/books/1474154022s...</td>\n",
              "    </tr>\n",
              "    <tr>\n",
              "      <th>2</th>\n",
              "      <td>3</td>\n",
              "      <td>41865</td>\n",
              "      <td>41865</td>\n",
              "      <td>3212258</td>\n",
              "      <td>226</td>\n",
              "      <td>316015849</td>\n",
              "      <td>9.780316e+12</td>\n",
              "      <td>Stephenie Meyer</td>\n",
              "      <td>2005.0</td>\n",
              "      <td>Twilight</td>\n",
              "      <td>Twilight (Twilight, #1)</td>\n",
              "      <td>en-US</td>\n",
              "      <td>3.57</td>\n",
              "      <td>3866839</td>\n",
              "      <td>3916824</td>\n",
              "      <td>95009</td>\n",
              "      <td>456191</td>\n",
              "      <td>436802</td>\n",
              "      <td>793319</td>\n",
              "      <td>875073</td>\n",
              "      <td>1355439</td>\n",
              "      <td>https://images.gr-assets.com/books/1361039443m...</td>\n",
              "      <td>https://images.gr-assets.com/books/1361039443s...</td>\n",
              "    </tr>\n",
              "    <tr>\n",
              "      <th>3</th>\n",
              "      <td>4</td>\n",
              "      <td>2657</td>\n",
              "      <td>2657</td>\n",
              "      <td>3275794</td>\n",
              "      <td>487</td>\n",
              "      <td>61120081</td>\n",
              "      <td>9.780061e+12</td>\n",
              "      <td>Harper Lee</td>\n",
              "      <td>1960.0</td>\n",
              "      <td>To Kill a Mockingbird</td>\n",
              "      <td>To Kill a Mockingbird</td>\n",
              "      <td>eng</td>\n",
              "      <td>4.25</td>\n",
              "      <td>3198671</td>\n",
              "      <td>3340896</td>\n",
              "      <td>72586</td>\n",
              "      <td>60427</td>\n",
              "      <td>117415</td>\n",
              "      <td>446835</td>\n",
              "      <td>1001952</td>\n",
              "      <td>1714267</td>\n",
              "      <td>https://images.gr-assets.com/books/1361975680m...</td>\n",
              "      <td>https://images.gr-assets.com/books/1361975680s...</td>\n",
              "    </tr>\n",
              "    <tr>\n",
              "      <th>4</th>\n",
              "      <td>5</td>\n",
              "      <td>4671</td>\n",
              "      <td>4671</td>\n",
              "      <td>245494</td>\n",
              "      <td>1356</td>\n",
              "      <td>743273567</td>\n",
              "      <td>9.780743e+12</td>\n",
              "      <td>F. Scott Fitzgerald</td>\n",
              "      <td>1925.0</td>\n",
              "      <td>The Great Gatsby</td>\n",
              "      <td>The Great Gatsby</td>\n",
              "      <td>eng</td>\n",
              "      <td>3.89</td>\n",
              "      <td>2683664</td>\n",
              "      <td>2773745</td>\n",
              "      <td>51992</td>\n",
              "      <td>86236</td>\n",
              "      <td>197621</td>\n",
              "      <td>606158</td>\n",
              "      <td>936012</td>\n",
              "      <td>947718</td>\n",
              "      <td>https://images.gr-assets.com/books/1490528560m...</td>\n",
              "      <td>https://images.gr-assets.com/books/1490528560s...</td>\n",
              "    </tr>\n",
              "  </tbody>\n",
              "</table>\n",
              "</div>"
            ],
            "text/plain": [
              "   id  ...                                    small_image_url\n",
              "0   1  ...  https://images.gr-assets.com/books/1447303603s...\n",
              "1   2  ...  https://images.gr-assets.com/books/1474154022s...\n",
              "2   3  ...  https://images.gr-assets.com/books/1361039443s...\n",
              "3   4  ...  https://images.gr-assets.com/books/1361975680s...\n",
              "4   5  ...  https://images.gr-assets.com/books/1490528560s...\n",
              "\n",
              "[5 rows x 23 columns]"
            ]
          },
          "metadata": {
            "tags": []
          },
          "execution_count": 19
        }
      ]
    },
    {
      "cell_type": "code",
      "metadata": {
        "colab": {
          "base_uri": "https://localhost:8080/"
        },
        "id": "rhiHnwHRv8CH",
        "outputId": "ec18c651-5de0-4ee2-ea35-8fe5479bac02"
      },
      "source": [
        "g = ratings.groupby('book_id')['rating'].count()\n",
        "top_books = g.sort_values(ascending=False).index.values[:1000]\n",
        "top_books = top_books.astype(str)\n",
        "top_books[:10]"
      ],
      "execution_count": 20,
      "outputs": [
        {
          "output_type": "execute_result",
          "data": {
            "text/plain": [
              "array(['5000', '3315', '3313', '3312', '3311', '3309', '3308', '3307', '3306', '3304'], dtype='<U21')"
            ]
          },
          "metadata": {
            "tags": []
          },
          "execution_count": 20
        }
      ]
    },
    {
      "cell_type": "code",
      "metadata": {
        "colab": {
          "base_uri": "https://localhost:8080/"
        },
        "id": "MGrdkCsLwRqP",
        "outputId": "41092e9b-eb75-48d8-b326-6148e9722e20"
      },
      "source": [
        "top_books_with_name = []\n",
        "for book in top_books:\n",
        "    top_books_with_name.append(books[(books['id']==int(book))]['title'].iloc[0])\n",
        "top_books_with_name = np.array(top_books_with_name)\n",
        "top_books_with_name"
      ],
      "execution_count": 25,
      "outputs": [
        {
          "output_type": "execute_result",
          "data": {
            "text/plain": [
              "array(['Passion Unleashed (Demonica #3)', 'My Story', 'The Gargoyle', 'Pretty Baby', ...,\n",
              "       'Top Secret Twenty-One (Stephanie Plum, #21)', 'The Warrior Heir (The Heir Chronicles, #1)', 'Stone Soup',\n",
              "       'The Sixth Man (Sean King & Michelle Maxwell, #5)'], dtype='<U144')"
            ]
          },
          "metadata": {
            "tags": []
          },
          "execution_count": 25
        }
      ]
    },
    {
      "cell_type": "markdown",
      "metadata": {
        "id": "5U0GpMMHxqM4"
      },
      "source": [
        "### Book Bias"
      ]
    },
    {
      "cell_type": "code",
      "metadata": {
        "colab": {
          "base_uri": "https://localhost:8080/"
        },
        "id": "STi_1F-axrx2",
        "outputId": "5ec346c7-3fff-4745-b60d-990fbfb18805"
      },
      "source": [
        "learn.model"
      ],
      "execution_count": 26,
      "outputs": [
        {
          "output_type": "execute_result",
          "data": {
            "text/plain": [
              "EmbeddingDotBias(\n",
              "  (u_weight): Embedding(53351, 40)\n",
              "  (i_weight): Embedding(10001, 40)\n",
              "  (u_bias): Embedding(53351, 1)\n",
              "  (i_bias): Embedding(10001, 1)\n",
              ")"
            ]
          },
          "metadata": {
            "tags": []
          },
          "execution_count": 26
        }
      ]
    },
    {
      "cell_type": "code",
      "metadata": {
        "id": "cAa03ZqjxziP"
      },
      "source": [
        "book_bias = learn.bias(top_books, is_item=True)"
      ],
      "execution_count": 27,
      "outputs": []
    },
    {
      "cell_type": "code",
      "metadata": {
        "id": "KGjJS9pkx69_"
      },
      "source": [
        "mean_ratings = ratings.groupby('book_id')['rating'].mean()\n",
        "book_ratings = [(b, top_books_with_name[i], mean_ratings.loc[int(tb)]) for i, (tb, b) in enumerate(zip(top_books, book_bias))]"
      ],
      "execution_count": 28,
      "outputs": []
    },
    {
      "cell_type": "code",
      "metadata": {
        "id": "U2WbFYySx8Gf"
      },
      "source": [
        "item0 = lambda o:o[0]"
      ],
      "execution_count": 29,
      "outputs": []
    },
    {
      "cell_type": "code",
      "metadata": {
        "colab": {
          "base_uri": "https://localhost:8080/"
        },
        "id": "C7-ABl2Ox_q-",
        "outputId": "1a99b453-a0fd-4708-91b4-77a636f9a2fa"
      },
      "source": [
        "sorted(book_ratings, key=item0)[:15]"
      ],
      "execution_count": 30,
      "outputs": [
        {
          "output_type": "execute_result",
          "data": {
            "text/plain": [
              "[(tensor(-0.1082), 'The Almost Moon', 2.49),\n",
              " (tensor(-0.0380), 'The Particular Sadness of Lemon Cake', 2.93),\n",
              " (tensor(-0.0320), 'Skinny Bitch', 2.9),\n",
              " (tensor(-0.0311), 'Bergdorf Blondes', 3.0),\n",
              " (tensor(-0.0142), 'The Weird Sisters', 3.08),\n",
              " (tensor(-0.0095), 'Nightfall (The Vampire Diaries: The Return, #1)', 3.12),\n",
              " (tensor(-0.0094), 'Swamplandia!', 3.02),\n",
              " (tensor(0.0018), 'Need (Need, #1)', 3.22),\n",
              " (tensor(0.0048),\n",
              "  'The Claiming of Sleeping Beauty (Sleeping Beauty, #1)',\n",
              "  3.28),\n",
              " (tensor(0.0063), 'Last Night at Chateau Marmont', 3.07),\n",
              " (tensor(0.0078), 'Vampire Kisses (Vampire Kisses, #1)', 3.18),\n",
              " (tensor(0.0095), 'Skipping Christmas', 3.25),\n",
              " (tensor(0.0107), 'Wreckage', 3.13),\n",
              " (tensor(0.0123), 'Lipstick Jungle', 3.12),\n",
              " (tensor(0.0147), 'Ink Exchange (Wicked Lovely, #2)', 3.29)]"
            ]
          },
          "metadata": {
            "tags": []
          },
          "execution_count": 30
        }
      ]
    },
    {
      "cell_type": "code",
      "metadata": {
        "colab": {
          "base_uri": "https://localhost:8080/"
        },
        "id": "aL7rmjXIyCXY",
        "outputId": "f294686f-ab39-4460-93bc-59f11cdda36e"
      },
      "source": [
        "sorted(book_ratings, key=item0, reverse=True)[:15]"
      ],
      "execution_count": 31,
      "outputs": [
        {
          "output_type": "execute_result",
          "data": {
            "text/plain": [
              "[(tensor(0.3134),\n",
              "  'Harry Potter Boxed Set, Books 1-5 (Harry Potter, #1-5)',\n",
              "  4.77),\n",
              " (tensor(0.3099), 'The Kindly Ones (The Sandman #9)', 4.65),\n",
              " (tensor(0.3080), 'The Wake (The Sandman #10)', 4.65),\n",
              " (tensor(0.3061), 'Saga, Vol. 4 (Saga, #4)', 4.5),\n",
              " (tensor(0.3011), 'The Story of a New Name (The Neapolitan Novels #2)', 4.23),\n",
              " (tensor(0.3008),\n",
              "  'The Story of the Lost Child (The Neapolitan Novels, #4)',\n",
              "  4.38),\n",
              " (tensor(0.3005), 'The Bands of Mourning (Mistborn, #6)', 4.37),\n",
              " (tensor(0.3005), 'The Complete Calvin and Hobbes', 4.73),\n",
              " (tensor(0.2973), 'Nimona', 4.4),\n",
              " (tensor(0.2968),\n",
              "  'Harry Potter and the Chamber of Secrets: Sheet Music for Flute with C.D',\n",
              "  4.57),\n",
              " (tensor(0.2945), 'Just Mercy: A Story of Justice and Redemption', 4.51),\n",
              " (tensor(0.2940), 'Saga, Vol. 3 (Saga, #3)', 4.54),\n",
              " (tensor(0.2913), 'Crooked Kingdom (Six of Crows, #2)', 4.55),\n",
              " (tensor(0.2909), 'The Arrival', 4.45),\n",
              " (tensor(0.2893), 'A Game of You (The Sandman #5)', 4.56)]"
            ]
          },
          "metadata": {
            "tags": []
          },
          "execution_count": 31
        }
      ]
    },
    {
      "cell_type": "code",
      "metadata": {
        "colab": {
          "base_uri": "https://localhost:8080/"
        },
        "id": "zbzhIfGHyI3w",
        "outputId": "7b27c589-3b41-46c0-9e32-27f3c7016600"
      },
      "source": [
        "book_w = learn.weight(top_books, is_item=True)\n",
        "book_w.shape"
      ],
      "execution_count": 32,
      "outputs": [
        {
          "output_type": "execute_result",
          "data": {
            "text/plain": [
              "torch.Size([1000, 40])"
            ]
          },
          "metadata": {
            "tags": []
          },
          "execution_count": 32
        }
      ]
    },
    {
      "cell_type": "code",
      "metadata": {
        "colab": {
          "base_uri": "https://localhost:8080/"
        },
        "id": "3bt0U6pAyL84",
        "outputId": "1bf2120e-d3b1-406f-e7c0-222c77240c04"
      },
      "source": [
        "book_pca = book_w.pca(3)\n",
        "book_pca.shape"
      ],
      "execution_count": 33,
      "outputs": [
        {
          "output_type": "execute_result",
          "data": {
            "text/plain": [
              "torch.Size([1000, 3])"
            ]
          },
          "metadata": {
            "tags": []
          },
          "execution_count": 33
        }
      ]
    },
    {
      "cell_type": "code",
      "metadata": {
        "id": "Mjohm9UQyTZ3"
      },
      "source": [
        "fac0,fac1,fac2 = book_pca.t()\n",
        "book_comp = [(f, i) for f,i in zip(fac0, top_books_with_name)]"
      ],
      "execution_count": 34,
      "outputs": []
    },
    {
      "cell_type": "code",
      "metadata": {
        "colab": {
          "base_uri": "https://localhost:8080/"
        },
        "id": "dcxp1qbCyV3X",
        "outputId": "a32c7095-cf0d-41fa-c969-2f69f965973a"
      },
      "source": [
        "sorted(book_comp, key=itemgetter(0), reverse=True)[:10]"
      ],
      "execution_count": 35,
      "outputs": [
        {
          "output_type": "execute_result",
          "data": {
            "text/plain": [
              "[(tensor(0.6811), 'The Kindly Ones (The Sandman #9)'),\n",
              " (tensor(0.6708), 'The Complete Calvin and Hobbes'),\n",
              " (tensor(0.6548), 'A Game of You (The Sandman #5)'),\n",
              " (tensor(0.6473), 'The Wake (The Sandman #10)'),\n",
              " (tensor(0.5692), \"Worlds' End (The Sandman #8)\"),\n",
              " (tensor(0.5630), 'Fables and Reflections (The Sandman #6)'),\n",
              " (tensor(0.5309),\n",
              "  \"The Hitchhiker's Guide to the Galaxy: A Trilogy in Four Parts\"),\n",
              " (tensor(0.5277), 'Pale Fire'),\n",
              " (tensor(0.5212), 'The Complete Stories'),\n",
              " (tensor(0.5186), 'SantaLand Diaries')]"
            ]
          },
          "metadata": {
            "tags": []
          },
          "execution_count": 35
        }
      ]
    },
    {
      "cell_type": "code",
      "metadata": {
        "colab": {
          "base_uri": "https://localhost:8080/"
        },
        "id": "MTyuJ69xyY4x",
        "outputId": "06fcbefa-7ae2-4b06-b138-a0088028581f"
      },
      "source": [
        "sorted(book_comp, key=itemgetter(0))[:10]"
      ],
      "execution_count": 36,
      "outputs": [
        {
          "output_type": "execute_result",
          "data": {
            "text/plain": [
              "[(tensor(-0.7791), 'Fueled (Driven, #2)'),\n",
              " (tensor(-0.7727), 'Pulse (Collide, #2)'),\n",
              " (tensor(-0.7572), 'Driven (Driven, #1)'),\n",
              " (tensor(-0.7402), 'Beautiful Stranger (Beautiful Bastard, #2)'),\n",
              " (tensor(-0.7162), 'Twisted Perfection (Rosemary Beach, #5; Perfection, #1)'),\n",
              " (tensor(-0.7056), 'Just for Now (Sea Breeze, #4)'),\n",
              " (tensor(-0.7035), 'A Beautiful Wedding (Beautiful, #2.5)'),\n",
              " (tensor(-0.6991), 'One Week Girlfriend (One Week Girlfriend, #1)'),\n",
              " (tensor(-0.6965), 'Feast of Fools (The Morganville Vampires, #4)'),\n",
              " (tensor(-0.6842), 'The Vincent Brothers (The Vincent Boys, #2)')]"
            ]
          },
          "metadata": {
            "tags": []
          },
          "execution_count": 36
        }
      ]
    },
    {
      "cell_type": "code",
      "metadata": {
        "id": "UdJbyOCfybO2"
      },
      "source": [
        "book_comp = [(f, i) for f,i in zip(fac1, top_books_with_name)]"
      ],
      "execution_count": 37,
      "outputs": []
    },
    {
      "cell_type": "code",
      "metadata": {
        "colab": {
          "base_uri": "https://localhost:8080/"
        },
        "id": "Yzl5UG1QydOm",
        "outputId": "fe67f8c2-410e-4246-ddac-f48cfc73fe7f"
      },
      "source": [
        "sorted(book_comp, key=itemgetter(0), reverse=True)[:10]"
      ],
      "execution_count": 38,
      "outputs": [
        {
          "output_type": "execute_result",
          "data": {
            "text/plain": [
              "[(tensor(0.3685), 'Swamplandia!'),\n",
              " (tensor(0.3353), 'The Weird Sisters'),\n",
              " (tensor(0.3136), 'Skinny Bitch'),\n",
              " (tensor(0.2949), 'Wreckage'),\n",
              " (tensor(0.2871), 'Housekeeping'),\n",
              " (tensor(0.2857), 'The Particular Sadness of Lemon Cake'),\n",
              " (tensor(0.2856), 'Sweet Tooth'),\n",
              " (tensor(0.2800), 'Sons and Lovers'),\n",
              " (tensor(0.2792), 'Super Sad True Love Story'),\n",
              " (tensor(0.2777), 'The Almost Moon')]"
            ]
          },
          "metadata": {
            "tags": []
          },
          "execution_count": 38
        }
      ]
    },
    {
      "cell_type": "code",
      "metadata": {
        "colab": {
          "base_uri": "https://localhost:8080/"
        },
        "id": "x2lUe5t1yfvX",
        "outputId": "3ccb4141-7a60-40c8-fa37-fb68051fd57d"
      },
      "source": [
        "sorted(book_comp, key=itemgetter(0))[:10]"
      ],
      "execution_count": 39,
      "outputs": [
        {
          "output_type": "execute_result",
          "data": {
            "text/plain": [
              "[(tensor(-0.5912), 'Executive Power (Mitch Rapp, #6)'),\n",
              " (tensor(-0.5692), 'Kill Shot (Mitch Rapp, #2)'),\n",
              " (tensor(-0.5452), \"The 9th Judgment  (Women's Murder Club, #9)\"),\n",
              " (tensor(-0.5343), 'Term Limits'),\n",
              " (tensor(-0.5321), 'The Sixth Man (Sean King & Michelle Maxwell, #5)'),\n",
              " (tensor(-0.5298), 'Extreme Measures (Mitch Rapp, #11)'),\n",
              " (tensor(-0.5281), 'Winter Prey (Lucas Davenport, #5)'),\n",
              " (tensor(-0.5269), 'Pursuit of Honor (Mitch Rapp, #12)'),\n",
              " (tensor(-0.5268), 'Buried Prey (Lucas Davenport, #21)'),\n",
              " (tensor(-0.5227), 'The Third Option (Mitch Rapp, #4)')]"
            ]
          },
          "metadata": {
            "tags": []
          },
          "execution_count": 39
        }
      ]
    },
    {
      "cell_type": "code",
      "metadata": {
        "colab": {
          "base_uri": "https://localhost:8080/",
          "height": 863
        },
        "id": "2cNSxZlcyiRO",
        "outputId": "2147d46c-7457-417c-804e-3169748b2993"
      },
      "source": [
        "idxs = np.random.choice(len(top_books_with_name), 50, replace=False)\n",
        "idxs = list(range(50))\n",
        "X = fac0[idxs]\n",
        "Y = fac2[idxs]\n",
        "plt.figure(figsize=(15,15))\n",
        "plt.scatter(X, Y)\n",
        "for i, x, y in zip(top_books_with_name[idxs], X, Y):\n",
        "    plt.text(x,y,i, color=np.random.rand(3)*0.7, fontsize=11)\n",
        "plt.show()"
      ],
      "execution_count": 40,
      "outputs": [
        {
          "output_type": "display_data",
          "data": {
            "image/png": "[encoded data removed]",
            "text/plain": [
              "<Figure size 1080x1080 with 1 Axes>"
            ]
          },
          "metadata": {
            "tags": [],
            "needs_background": "light"
          }
        }
      ]
    }
  ]
}